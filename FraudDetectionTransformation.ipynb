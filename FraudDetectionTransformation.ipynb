{
  "cells": [
    {
      "cell_type": "markdown",
      "metadata": {
        "id": "view-in-github",
        "colab_type": "text"
      },
      "source": [
        "<a href=\"https://colab.research.google.com/github/Nandini37/Python_ML_AI/blob/main/FraudDetectionTransformation.ipynb\" target=\"_parent\"><img src=\"https://colab.research.google.com/assets/colab-badge.svg\" alt=\"Open In Colab\"/></a>"
      ]
    },
    {
      "cell_type": "code",
      "execution_count": null,
      "metadata": {
        "id": "SHrWMTDGGWFT"
      },
      "outputs": [],
      "source": [
        "import pandas as pd\n",
        "import numpy as np\n",
        "import seaborn as sns\n",
        "import matplotlib.pyplot as plt\n",
        "import warnings\n",
        "import polars as pl\n",
        "warnings.filterwarnings('ignore')"
      ]
    },
    {
      "cell_type": "code",
      "execution_count": null,
      "metadata": {
        "colab": {
          "base_uri": "https://localhost:8080/"
        },
        "id": "4AtMo8dlHJaA",
        "outputId": "7c8ce503-427c-4a88-c863-fbf2ba749c7d"
      },
      "outputs": [
        {
          "name": "stdout",
          "output_type": "stream",
          "text": [
            "Collecting pyspark\n",
            "  Downloading pyspark-3.5.3.tar.gz (317.3 MB)\n",
            "\u001b[2K     \u001b[90m━━━━━━━━━━━━━━━━━━━━━━━━━━━━━━━━━━━━━━━━\u001b[0m \u001b[32m317.3/317.3 MB\u001b[0m \u001b[31m1.9 MB/s\u001b[0m eta \u001b[36m0:00:00\u001b[0m\n",
            "\u001b[?25h  Preparing metadata (setup.py) ... \u001b[?25l\u001b[?25hdone\n",
            "Requirement already satisfied: py4j==0.10.9.7 in /usr/local/lib/python3.10/dist-packages (from pyspark) (0.10.9.7)\n",
            "Building wheels for collected packages: pyspark\n",
            "  Building wheel for pyspark (setup.py) ... \u001b[?25l\u001b[?25hdone\n",
            "  Created wheel for pyspark: filename=pyspark-3.5.3-py2.py3-none-any.whl size=317840625 sha256=5dcc5e89c91bb58cdb68eec076f609a15096c404160f030ab82ac12ddb9a34f5\n",
            "  Stored in directory: /root/.cache/pip/wheels/1b/3a/92/28b93e2fbfdbb07509ca4d6f50c5e407f48dce4ddbda69a4ab\n",
            "Successfully built pyspark\n",
            "Installing collected packages: pyspark\n",
            "Successfully installed pyspark-3.5.3\n"
          ]
        }
      ],
      "source": [
        "!pip install pyspark"
      ]
    },
    {
      "cell_type": "code",
      "execution_count": 47,
      "metadata": {
        "colab": {
          "base_uri": "https://localhost:8080/"
        },
        "id": "UowJ7gaZLVnv",
        "outputId": "8d35393f-4904-48b0-af02-1fdb4ae0859b"
      },
      "outputs": [
        {
          "output_type": "stream",
          "name": "stdout",
          "text": [
            "(6362620, 11)\n"
          ]
        }
      ],
      "source": [
        "df = pl.read_csv('/content/Fraud.csv')\n",
        "print(df.shape)"
      ]
    },
    {
      "cell_type": "code",
      "execution_count": null,
      "metadata": {
        "colab": {
          "base_uri": "https://localhost:8080/",
          "height": 274
        },
        "id": "nu2JevSBL9XW",
        "outputId": "6667aa6f-1a44-400a-f8ab-587572692171"
      },
      "outputs": [
        {
          "data": {
            "text/html": [
              "<div><style>\n",
              ".dataframe > thead > tr,\n",
              ".dataframe > tbody > tr {\n",
              "  text-align: right;\n",
              "  white-space: pre-wrap;\n",
              "}\n",
              "</style>\n",
              "<small>shape: (5, 11)</small><table border=\"1\" class=\"dataframe\"><thead><tr><th>step</th><th>type</th><th>amount</th><th>nameOrig</th><th>oldbalanceOrg</th><th>newbalanceOrig</th><th>nameDest</th><th>oldbalanceDest</th><th>newbalanceDest</th><th>isFraud</th><th>isFlaggedFraud</th></tr><tr><td>i64</td><td>str</td><td>f64</td><td>str</td><td>f64</td><td>f64</td><td>str</td><td>f64</td><td>f64</td><td>i64</td><td>i64</td></tr></thead><tbody><tr><td>1</td><td>&quot;PAYMENT&quot;</td><td>9839.64</td><td>&quot;C1231006815&quot;</td><td>170136.0</td><td>160296.36</td><td>&quot;M1979787155&quot;</td><td>0.0</td><td>0.0</td><td>0</td><td>0</td></tr><tr><td>1</td><td>&quot;PAYMENT&quot;</td><td>1864.28</td><td>&quot;C1666544295&quot;</td><td>21249.0</td><td>19384.72</td><td>&quot;M2044282225&quot;</td><td>0.0</td><td>0.0</td><td>0</td><td>0</td></tr><tr><td>1</td><td>&quot;TRANSFER&quot;</td><td>181.0</td><td>&quot;C1305486145&quot;</td><td>181.0</td><td>0.0</td><td>&quot;C553264065&quot;</td><td>0.0</td><td>0.0</td><td>1</td><td>0</td></tr><tr><td>1</td><td>&quot;CASH_OUT&quot;</td><td>181.0</td><td>&quot;C840083671&quot;</td><td>181.0</td><td>0.0</td><td>&quot;C38997010&quot;</td><td>21182.0</td><td>0.0</td><td>1</td><td>0</td></tr><tr><td>1</td><td>&quot;PAYMENT&quot;</td><td>11668.14</td><td>&quot;C2048537720&quot;</td><td>41554.0</td><td>29885.86</td><td>&quot;M1230701703&quot;</td><td>0.0</td><td>0.0</td><td>0</td><td>0</td></tr></tbody></table></div>"
            ],
            "text/plain": [
              "shape: (5, 11)\n",
              "┌──────┬──────────┬──────────┬─────────────┬───┬─────────────┬─────────────┬─────────┬─────────────┐\n",
              "│ step ┆ type     ┆ amount   ┆ nameOrig    ┆ … ┆ oldbalanceD ┆ newbalanceD ┆ isFraud ┆ isFlaggedFr │\n",
              "│ ---  ┆ ---      ┆ ---      ┆ ---         ┆   ┆ est         ┆ est         ┆ ---     ┆ aud         │\n",
              "│ i64  ┆ str      ┆ f64      ┆ str         ┆   ┆ ---         ┆ ---         ┆ i64     ┆ ---         │\n",
              "│      ┆          ┆          ┆             ┆   ┆ f64         ┆ f64         ┆         ┆ i64         │\n",
              "╞══════╪══════════╪══════════╪═════════════╪═══╪═════════════╪═════════════╪═════════╪═════════════╡\n",
              "│ 1    ┆ PAYMENT  ┆ 9839.64  ┆ C1231006815 ┆ … ┆ 0.0         ┆ 0.0         ┆ 0       ┆ 0           │\n",
              "│ 1    ┆ PAYMENT  ┆ 1864.28  ┆ C1666544295 ┆ … ┆ 0.0         ┆ 0.0         ┆ 0       ┆ 0           │\n",
              "│ 1    ┆ TRANSFER ┆ 181.0    ┆ C1305486145 ┆ … ┆ 0.0         ┆ 0.0         ┆ 1       ┆ 0           │\n",
              "│ 1    ┆ CASH_OUT ┆ 181.0    ┆ C840083671  ┆ … ┆ 21182.0     ┆ 0.0         ┆ 1       ┆ 0           │\n",
              "│ 1    ┆ PAYMENT  ┆ 11668.14 ┆ C2048537720 ┆ … ┆ 0.0         ┆ 0.0         ┆ 0       ┆ 0           │\n",
              "└──────┴──────────┴──────────┴─────────────┴───┴─────────────┴─────────────┴─────────┴─────────────┘"
            ]
          },
          "execution_count": 3,
          "metadata": {},
          "output_type": "execute_result"
        }
      ],
      "source": [
        "df.head()"
      ]
    },
    {
      "cell_type": "code",
      "execution_count": null,
      "metadata": {
        "colab": {
          "base_uri": "https://localhost:8080/"
        },
        "id": "5kA3u2S6MHig",
        "outputId": "1cf28411-9fbf-4467-9bfc-f355b0818b4a"
      },
      "outputs": [
        {
          "name": "stdout",
          "output_type": "stream",
          "text": [
            "Column name: type\n",
            "Unique values for column 'type':\n",
            "       type\n",
            "0   PAYMENT\n",
            "1     DEBIT\n",
            "2  TRANSFER\n",
            "3   CASH_IN\n",
            "4  CASH_OUT\n",
            "\n",
            "\n",
            "Column name: nameOrig\n",
            "Unique values for column 'nameOrig':\n",
            "            nameOrig\n",
            "0          C39084032\n",
            "1         C202636861\n",
            "2        C1952421932\n",
            "3        C2096952830\n",
            "4        C1004188084\n",
            "...              ...\n",
            "1643708  C1376510884\n",
            "1643709  C1855827409\n",
            "1643710   C373229243\n",
            "1643711  C2062004185\n",
            "1643712  C1253751378\n",
            "\n",
            "[1643713 rows x 1 columns]\n",
            "\n",
            "\n",
            "Column name: nameDest\n",
            "Unique values for column 'nameDest':\n",
            "           nameDest\n",
            "0        C935053787\n",
            "1        C946363477\n",
            "2        M612574500\n",
            "3        C388395512\n",
            "4        M269670299\n",
            "...             ...\n",
            "700856  M1480634019\n",
            "700857     M8945663\n",
            "700858   M150695234\n",
            "700859  M1710459937\n",
            "700860   M104138594\n",
            "\n",
            "[700861 rows x 1 columns]\n",
            "\n",
            "\n"
          ]
        }
      ],
      "source": [
        "\n",
        "for col in df.columns:\n",
        "  if df[col].dtype == pl.Utf8:\n",
        "\n",
        "    print(f\"Column name: {col}\")\n",
        "    print(f\"Unique values for column '{col}':\")\n",
        "    print(df.select(pl.col(col).unique()).to_pandas())\n",
        "    print(\"\\n\")"
      ]
    },
    {
      "cell_type": "code",
      "source": [
        "df.describe()"
      ],
      "metadata": {
        "colab": {
          "base_uri": "https://localhost:8080/",
          "height": 400
        },
        "id": "XEJi750GTavK",
        "outputId": "4143cb23-0639-42f3-bba3-04e94171d8e3"
      },
      "execution_count": 19,
      "outputs": [
        {
          "output_type": "execute_result",
          "data": {
            "text/plain": [
              "shape: (9, 12)\n",
              "┌───────────┬───────────┬──────────┬───────────┬───┬───────────┬───────────┬───────────┬───────────┐\n",
              "│ statistic ┆ step      ┆ type     ┆ amount    ┆ … ┆ oldbalanc ┆ newbalanc ┆ isFraud   ┆ isFlagged │\n",
              "│ ---       ┆ ---       ┆ ---      ┆ ---       ┆   ┆ eDest     ┆ eDest     ┆ ---       ┆ Fraud     │\n",
              "│ str       ┆ f64       ┆ str      ┆ f64       ┆   ┆ ---       ┆ ---       ┆ f64       ┆ ---       │\n",
              "│           ┆           ┆          ┆           ┆   ┆ f64       ┆ f64       ┆           ┆ f64       │\n",
              "╞═══════════╪═══════════╪══════════╪═══════════╪═══╪═══════════╪═══════════╪═══════════╪═══════════╡\n",
              "│ count     ┆ 6.36262e6 ┆ 6362620  ┆ 6.36262e6 ┆ … ┆ 6.36262e6 ┆ 6.36262e6 ┆ 6.36262e6 ┆ 6.36262e6 │\n",
              "│ null_coun ┆ 0.0       ┆ 0        ┆ 0.0       ┆ … ┆ 0.0       ┆ 0.0       ┆ 0.0       ┆ 0.0       │\n",
              "│ t         ┆           ┆          ┆           ┆   ┆           ┆           ┆           ┆           │\n",
              "│ mean      ┆ 243.39724 ┆ null     ┆ 179861.90 ┆ … ┆ 1.1007e6  ┆ 1.2250e6  ┆ 0.001291  ┆ 0.000003  │\n",
              "│           ┆ 6         ┆          ┆ 3549      ┆   ┆           ┆           ┆           ┆           │\n",
              "│ std       ┆ 142.33197 ┆ null     ┆ 603858.23 ┆ … ┆ 3.3992e6  ┆ 3.6741e6  ┆ 0.035905  ┆ 0.001586  │\n",
              "│           ┆ 1         ┆          ┆ 1463      ┆   ┆           ┆           ┆           ┆           │\n",
              "│ min       ┆ 1.0       ┆ CASH_IN  ┆ 0.0       ┆ … ┆ 0.0       ┆ 0.0       ┆ 0.0       ┆ 0.0       │\n",
              "│ 25%       ┆ 156.0     ┆ null     ┆ 13389.57  ┆ … ┆ 0.0       ┆ 0.0       ┆ 0.0       ┆ 0.0       │\n",
              "│ 50%       ┆ 239.0     ┆ null     ┆ 74872.08  ┆ … ┆ 132705.81 ┆ 214661.65 ┆ 0.0       ┆ 0.0       │\n",
              "│ 75%       ┆ 335.0     ┆ null     ┆ 208721.45 ┆ … ┆ 943036.53 ┆ 1.1119e6  ┆ 0.0       ┆ 0.0       │\n",
              "│ max       ┆ 743.0     ┆ TRANSFER ┆ 9.2446e7  ┆ … ┆ 3.5602e8  ┆ 3.5618e8  ┆ 1.0       ┆ 1.0       │\n",
              "└───────────┴───────────┴──────────┴───────────┴───┴───────────┴───────────┴───────────┴───────────┘"
            ],
            "text/html": [
              "<div><style>\n",
              ".dataframe > thead > tr,\n",
              ".dataframe > tbody > tr {\n",
              "  text-align: right;\n",
              "  white-space: pre-wrap;\n",
              "}\n",
              "</style>\n",
              "<small>shape: (9, 12)</small><table border=\"1\" class=\"dataframe\"><thead><tr><th>statistic</th><th>step</th><th>type</th><th>amount</th><th>nameOrig</th><th>oldbalanceOrg</th><th>newbalanceOrig</th><th>nameDest</th><th>oldbalanceDest</th><th>newbalanceDest</th><th>isFraud</th><th>isFlaggedFraud</th></tr><tr><td>str</td><td>f64</td><td>str</td><td>f64</td><td>str</td><td>f64</td><td>f64</td><td>str</td><td>f64</td><td>f64</td><td>f64</td><td>f64</td></tr></thead><tbody><tr><td>&quot;count&quot;</td><td>6.36262e6</td><td>&quot;6362620&quot;</td><td>6.36262e6</td><td>&quot;6362620&quot;</td><td>6.36262e6</td><td>6.36262e6</td><td>&quot;6362620&quot;</td><td>6.36262e6</td><td>6.36262e6</td><td>6.36262e6</td><td>6.36262e6</td></tr><tr><td>&quot;null_count&quot;</td><td>0.0</td><td>&quot;0&quot;</td><td>0.0</td><td>&quot;0&quot;</td><td>0.0</td><td>0.0</td><td>&quot;0&quot;</td><td>0.0</td><td>0.0</td><td>0.0</td><td>0.0</td></tr><tr><td>&quot;mean&quot;</td><td>243.397246</td><td>null</td><td>179861.903549</td><td>null</td><td>833883.104074</td><td>855113.668579</td><td>null</td><td>1.1007e6</td><td>1.2250e6</td><td>0.001291</td><td>0.000003</td></tr><tr><td>&quot;std&quot;</td><td>142.331971</td><td>null</td><td>603858.231463</td><td>null</td><td>2.8882e6</td><td>2.9240e6</td><td>null</td><td>3.3992e6</td><td>3.6741e6</td><td>0.035905</td><td>0.001586</td></tr><tr><td>&quot;min&quot;</td><td>1.0</td><td>&quot;CASH_IN&quot;</td><td>0.0</td><td>&quot;C1000000639&quot;</td><td>0.0</td><td>0.0</td><td>&quot;C1000004082&quot;</td><td>0.0</td><td>0.0</td><td>0.0</td><td>0.0</td></tr><tr><td>&quot;25%&quot;</td><td>156.0</td><td>null</td><td>13389.57</td><td>null</td><td>0.0</td><td>0.0</td><td>null</td><td>0.0</td><td>0.0</td><td>0.0</td><td>0.0</td></tr><tr><td>&quot;50%&quot;</td><td>239.0</td><td>null</td><td>74872.08</td><td>null</td><td>14208.0</td><td>0.0</td><td>null</td><td>132705.81</td><td>214661.65</td><td>0.0</td><td>0.0</td></tr><tr><td>&quot;75%&quot;</td><td>335.0</td><td>null</td><td>208721.45</td><td>null</td><td>107315.0</td><td>144258.41</td><td>null</td><td>943036.53</td><td>1.1119e6</td><td>0.0</td><td>0.0</td></tr><tr><td>&quot;max&quot;</td><td>743.0</td><td>&quot;TRANSFER&quot;</td><td>9.2446e7</td><td>&quot;C999999784&quot;</td><td>5.9585e7</td><td>4.9585e7</td><td>&quot;M999999784&quot;</td><td>3.5602e8</td><td>3.5618e8</td><td>1.0</td><td>1.0</td></tr></tbody></table></div>"
            ]
          },
          "metadata": {},
          "execution_count": 19
        }
      ]
    },
    {
      "cell_type": "code",
      "execution_count": 21,
      "metadata": {
        "colab": {
          "base_uri": "https://localhost:8080/"
        },
        "id": "FZ0koMg0MbH9",
        "outputId": "c386f516-a993-49b1-b90f-75f74c4d2341"
      },
      "outputs": [
        {
          "output_type": "stream",
          "name": "stdout",
          "text": [
            "Column: step\n",
            "Minimum value: 1\n",
            "Maximum value: 743\n",
            "Mean value: 243.39724563151657\n",
            "75th percentile: 335.0\n",
            "25th percentile: 156.0\n",
            "\n",
            "\n",
            "Column: amount\n",
            "Minimum value: 0.0\n",
            "Maximum value: 92445516.64\n",
            "Mean value: 179861.90354913071\n",
            "75th percentile: 208721.45\n",
            "25th percentile: 13389.57\n",
            "\n",
            "\n",
            "Column: oldbalanceOrg\n",
            "Minimum value: 0.0\n",
            "Maximum value: 59585040.37\n",
            "Mean value: 833883.1040744866\n",
            "75th percentile: 107315.0\n",
            "25th percentile: 0.0\n",
            "\n",
            "\n",
            "Column: newbalanceOrig\n",
            "Minimum value: 0.0\n",
            "Maximum value: 49585040.37\n",
            "Mean value: 855113.6685785886\n",
            "75th percentile: 144258.41\n",
            "25th percentile: 0.0\n",
            "\n",
            "\n",
            "Column: oldbalanceDest\n",
            "Minimum value: 0.0\n",
            "Maximum value: 356015889.35\n",
            "Mean value: 1100701.666519649\n",
            "75th percentile: 943036.53\n",
            "25th percentile: 0.0\n",
            "\n",
            "\n",
            "Column: newbalanceDest\n",
            "Minimum value: 0.0\n",
            "Maximum value: 356179278.92\n",
            "Mean value: 1224996.3982019294\n",
            "75th percentile: 1111909.16\n",
            "25th percentile: 0.0\n",
            "\n",
            "\n",
            "Column: isFraud\n",
            "Minimum value: 0\n",
            "Maximum value: 1\n",
            "Mean value: 0.001290820448180152\n",
            "75th percentile: 0.0\n",
            "25th percentile: 0.0\n",
            "\n",
            "\n",
            "Column: isFlaggedFraud\n",
            "Minimum value: 0\n",
            "Maximum value: 1\n",
            "Mean value: 2.51468734577894e-06\n",
            "75th percentile: 0.0\n",
            "25th percentile: 0.0\n",
            "\n",
            "\n"
          ]
        }
      ],
      "source": [
        "# Get columns with float and int data types\n",
        "float_int_cols = [col for col, dtype in df.schema.items() if dtype in (pl.Float32, pl.Float64, pl.Int8, pl.Int16, pl.Int32, pl.Int64)]\n",
        "\n",
        "# Calculate min and max for each selected column\n",
        "for col in float_int_cols:\n",
        "    min_val = df[col].min()\n",
        "    max_val = df[col].max()\n",
        "    mean_value = df[col].mean()\n",
        "    percentile75 = df[col].quantile(0.75)\n",
        "    percentile25 = df[col].quantile(0.25)\n",
        "    print(f\"Column: {col}\")\n",
        "    print(f\"Minimum value: {min_val}\")\n",
        "    print(f\"Maximum value: {max_val}\")\n",
        "    print(f\"Mean value: {mean_value}\")\n",
        "    print(f\"75th percentile: {percentile75}\")\n",
        "    print(f\"25th percentile: {percentile25}\")\n",
        "    print(\"\\n\")"
      ]
    },
    {
      "source": [
        "\n",
        "\n",
        "q = (\n",
        "    df.lazy()\n",
        "    .group_by(\"isFraud\")  # Group by 'isFraud'\n",
        "    .agg(pl.count().alias(\"count\"))  # Count occurrences\n",
        "    .sort(\"count\", descending=True)  # Sort by count in descending order\n",
        ")\n",
        "\n",
        "result_df = q.collect()  # Execute the query and get the result DataFrame\n",
        "print(result_df)"
      ],
      "cell_type": "code",
      "metadata": {
        "colab": {
          "base_uri": "https://localhost:8080/"
        },
        "id": "bUnefl5dVnXu",
        "outputId": "d37a6158-6c72-46b6-b925-9c6091c04516"
      },
      "execution_count": 30,
      "outputs": [
        {
          "output_type": "stream",
          "name": "stdout",
          "text": [
            "shape: (2, 2)\n",
            "┌─────────┬─────────┐\n",
            "│ isFraud ┆ count   │\n",
            "│ ---     ┆ ---     │\n",
            "│ i64     ┆ u32     │\n",
            "╞═════════╪═════════╡\n",
            "│ 0       ┆ 6354407 │\n",
            "│ 1       ┆ 8213    │\n",
            "└─────────┴─────────┘\n"
          ]
        }
      ]
    },
    {
      "cell_type": "code",
      "source": [
        "\n",
        "\n",
        "# Set the display options to show all columns and rows\n",
        "#pl.Config.set_tbl_rows(None)  # Set to None to display all rows\n",
        "pl.Config.set_tbl_cols(None)  # Set to None to display all columns\n",
        "\n",
        "print(df)"
      ],
      "metadata": {
        "colab": {
          "base_uri": "https://localhost:8080/"
        },
        "id": "wvvWUL--bFYC",
        "outputId": "d8043c4f-5062-493c-8725-203639ac9c32"
      },
      "execution_count": 33,
      "outputs": [
        {
          "output_type": "stream",
          "name": "stdout",
          "text": [
            "shape: (6_362_620, 11)\n",
            "┌──────┬──────────┬───────────┬─────────────┬───┬─────────────┬─────────────┬─────────┬────────────┐\n",
            "│ step ┆ type     ┆ amount    ┆ nameOrig    ┆ … ┆ oldbalanceD ┆ newbalanceD ┆ isFraud ┆ isFlaggedF │\n",
            "│ ---  ┆ ---      ┆ ---       ┆ ---         ┆   ┆ est         ┆ est         ┆ ---     ┆ raud       │\n",
            "│ i64  ┆ str      ┆ f64       ┆ str         ┆   ┆ ---         ┆ ---         ┆ i64     ┆ ---        │\n",
            "│      ┆          ┆           ┆             ┆   ┆ f64         ┆ f64         ┆         ┆ i64        │\n",
            "╞══════╪══════════╪═══════════╪═════════════╪═══╪═════════════╪═════════════╪═════════╪════════════╡\n",
            "│ 1    ┆ PAYMENT  ┆ 9839.64   ┆ C1231006815 ┆ … ┆ 0.0         ┆ 0.0         ┆ 0       ┆ 0          │\n",
            "│ 1    ┆ PAYMENT  ┆ 1864.28   ┆ C1666544295 ┆ … ┆ 0.0         ┆ 0.0         ┆ 0       ┆ 0          │\n",
            "│ 1    ┆ TRANSFER ┆ 181.0     ┆ C1305486145 ┆ … ┆ 0.0         ┆ 0.0         ┆ 1       ┆ 0          │\n",
            "│ 1    ┆ CASH_OUT ┆ 181.0     ┆ C840083671  ┆ … ┆ 21182.0     ┆ 0.0         ┆ 1       ┆ 0          │\n",
            "│ 1    ┆ PAYMENT  ┆ 11668.14  ┆ C2048537720 ┆ … ┆ 0.0         ┆ 0.0         ┆ 0       ┆ 0          │\n",
            "│ …    ┆ …        ┆ …         ┆ …           ┆ … ┆ …           ┆ …           ┆ …       ┆ …          │\n",
            "│ 743  ┆ CASH_OUT ┆ 339682.13 ┆ C786484425  ┆ … ┆ 0.0         ┆ 339682.13   ┆ 1       ┆ 0          │\n",
            "│ 743  ┆ TRANSFER ┆ 6.3114e6  ┆ C1529008245 ┆ … ┆ 0.0         ┆ 0.0         ┆ 1       ┆ 0          │\n",
            "│ 743  ┆ CASH_OUT ┆ 6.3114e6  ┆ C1162922333 ┆ … ┆ 68488.84    ┆ 6.3799e6    ┆ 1       ┆ 0          │\n",
            "│ 743  ┆ TRANSFER ┆ 850002.52 ┆ C1685995037 ┆ … ┆ 0.0         ┆ 0.0         ┆ 1       ┆ 0          │\n",
            "│ 743  ┆ CASH_OUT ┆ 850002.52 ┆ C1280323807 ┆ … ┆ 6.5101e6    ┆ 7.3601e6    ┆ 1       ┆ 0          │\n",
            "└──────┴──────────┴───────────┴─────────────┴───┴─────────────┴─────────────┴─────────┴────────────┘\n"
          ]
        }
      ]
    },
    {
      "cell_type": "code",
      "execution_count": 48,
      "metadata": {
        "id": "2Ls_ZXqnNnDq",
        "colab": {
          "base_uri": "https://localhost:8080/"
        },
        "outputId": "1be50252-9997-4621-ce79-4c12099c667b"
      },
      "outputs": [
        {
          "output_type": "stream",
          "name": "stdout",
          "text": [
            "Column 'step' has no missing values.\n",
            "Column 'type' has no missing values.\n",
            "Column 'amount' has no missing values.\n",
            "Column 'nameOrig' has no missing values.\n",
            "Column 'oldbalanceOrg' has no missing values.\n",
            "Column 'newbalanceOrig' has no missing values.\n",
            "Column 'nameDest' has no missing values.\n",
            "Column 'oldbalanceDest' has no missing values.\n",
            "Column 'newbalanceDest' has no missing values.\n",
            "Column 'isFraud' has no missing values.\n",
            "Column 'isFlaggedFraud' has no missing values.\n"
          ]
        }
      ],
      "source": [
        "# prompt: Handle missing values in pl df. I want to see all column output. the output is truc\n",
        "\n",
        "# Assuming df is your Polars DataFrame\n",
        "for col in df.columns:\n",
        "  # Check for missing values in each column\n",
        "  if df[col].null_count() > 0:\n",
        "    print(f\"Column '{col}' has missing values.\")\n",
        "  else:\n",
        "    print(f\"Column '{col}' has no missing values.\")\n",
        "\n",
        "\n",
        "\n"
      ]
    },
    {
      "cell_type": "code",
      "source": [
        "# prompt: handle outliners in data return the count of values replaced, and % of totalcol values replaced\n",
        "\n",
        "def handle_outliers(df, col, threshold=1.5):\n",
        "  \"\"\"\n",
        "  Handles outliers in a specified column of a Polars DataFrame using the IQR method.\n",
        "\n",
        "  Args:\n",
        "    df: The Polars DataFrame.\n",
        "    col: The name of the column to handle outliers in.\n",
        "    threshold: The multiplier for the IQR to define outlier boundaries (default is 1.5).\n",
        "\n",
        "  Returns:\n",
        "    A tuple containing:\n",
        "      - The modified DataFrame with outliers replaced by the nearest boundary value.\n",
        "      - The count of values replaced.\n",
        "      - The percentage of total column values replaced.\n",
        "  \"\"\"\n",
        "\n",
        "  q1 = df[col].quantile(0.25)\n",
        "  q3 = df[col].quantile(0.75)\n",
        "  iqr = q3 - q1\n",
        "  lower_bound = q1 - threshold * iqr\n",
        "  upper_bound = q3 + threshold * iqr\n",
        "\n",
        "  # Replace outliers with the nearest boundary value\n",
        "  df_modified = df.with_columns(\n",
        "      pl.when(pl.col(col) < lower_bound)\n",
        "      .then(lower_bound)\n",
        "      .when(pl.col(col) > upper_bound)\n",
        "      .then(upper_bound)\n",
        "      .otherwise(pl.col(col))\n",
        "      .alias(col)\n",
        "  )\n",
        "\n",
        "  # Count values replaced\n",
        "  count_replaced = df.filter((pl.col(col) < lower_bound) | (pl.col(col) > upper_bound)).shape[0]\n",
        "\n",
        "  # Calculate percentage of total column values replaced\n",
        "  percentage_replaced = (count_replaced / df.shape[0]) * 100 if df.shape[0] > 0 else 0\n",
        "\n",
        "  return df_modified, count_replaced, percentage_replaced\n",
        "\n",
        "\n",
        "# Example usage for a specific column (replace 'your_column_name' with your column)\n",
        "# df_modified, count_replaced, percentage_replaced = handle_outliers(df, 'your_column_name')\n",
        "\n",
        "# Print the results\n",
        "# print(f\"Count of values replaced in 'your_column_name': {count_replaced}\")\n",
        "# print(f\"Percentage of total values replaced in 'your_column_name': {percentage_replaced:.2f}%\")\n"
      ],
      "metadata": {
        "id": "gUGLxHlGcZHE"
      },
      "execution_count": 49,
      "outputs": []
    },
    {
      "cell_type": "code",
      "source": [
        "print(df.columns)"
      ],
      "metadata": {
        "colab": {
          "base_uri": "https://localhost:8080/"
        },
        "id": "0T3vz_EAc-0g",
        "outputId": "c94cd2db-ea5b-4f77-f0ea-0e7f7e510552"
      },
      "execution_count": 50,
      "outputs": [
        {
          "output_type": "stream",
          "name": "stdout",
          "text": [
            "['step', 'type', 'amount', 'nameOrig', 'oldbalanceOrg', 'newbalanceOrig', 'nameDest', 'oldbalanceDest', 'newbalanceDest', 'isFraud', 'isFlaggedFraud']\n"
          ]
        }
      ]
    },
    {
      "cell_type": "code",
      "source": [
        "df_modified, count_replaced, percentage_replaced = handle_outliers(df, 'oldbalanceOrg')\n",
        "# print(f\"Count of values replaced in 'your_column_name': {count_replaced}\")\n",
        "# print(f\"Percentage of total values replaced in 'your_column_name': {percentage_replaced:.2f}%\")\n"
      ],
      "metadata": {
        "id": "an7Go5IpcdbD"
      },
      "execution_count": 51,
      "outputs": []
    },
    {
      "cell_type": "code",
      "source": [
        "print(f\"Count of values replaced in 'your_column_name': {count_replaced}\")\n",
        "print(f\"Percentage of total values replaced in 'your_column_name': {percentage_replaced:.2f}%\")\n"
      ],
      "metadata": {
        "colab": {
          "base_uri": "https://localhost:8080/"
        },
        "id": "5G48p8LzdHbf",
        "outputId": "e7a55f21-0bb5-4f7b-ecbd-8980ce2a667c"
      },
      "execution_count": 52,
      "outputs": [
        {
          "output_type": "stream",
          "name": "stdout",
          "text": [
            "Count of values replaced in 'your_column_name': 1112508\n",
            "Percentage of total values replaced in 'your_column_name': 17.49%\n"
          ]
        }
      ]
    },
    {
      "cell_type": "code",
      "source": [],
      "metadata": {
        "id": "WtPMCh2YdLu4"
      },
      "execution_count": null,
      "outputs": []
    }
  ],
  "metadata": {
    "accelerator": "GPU",
    "colab": {
      "gpuType": "T4",
      "provenance": [],
      "authorship_tag": "ABX9TyMmQ3DIr/JfIjVtQhbqK2e6",
      "include_colab_link": true
    },
    "kernelspec": {
      "display_name": "Python 3",
      "name": "python3"
    },
    "language_info": {
      "name": "python"
    }
  },
  "nbformat": 4,
  "nbformat_minor": 0
}