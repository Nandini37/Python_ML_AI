{
  "cells": [
    {
      "cell_type": "markdown",
      "metadata": {
        "id": "view-in-github",
        "colab_type": "text"
      },
      "source": [
        "<a href=\"https://colab.research.google.com/github/Nandini37/Python_ML_AI/blob/branch1/FraudDetectionTransformation.ipynb\" target=\"_parent\"><img src=\"https://colab.research.google.com/assets/colab-badge.svg\" alt=\"Open In Colab\"/></a>"
      ]
    },
    {
      "cell_type": "code",
      "execution_count": 12,
      "metadata": {
        "id": "SHrWMTDGGWFT"
      },
      "outputs": [],
      "source": [
        "import pandas as pd\n",
        "import numpy as np\n",
        "import seaborn as sns\n",
        "import matplotlib.pyplot as plt\n",
        "import warnings\n",
        "import polars as pl\n",
        "warnings.filterwarnings('ignore')"
      ]
    },
    {
      "cell_type": "code",
      "execution_count": 13,
      "metadata": {
        "colab": {
          "base_uri": "https://localhost:8080/"
        },
        "id": "4AtMo8dlHJaA",
        "outputId": "ddd80b8a-6fb9-43aa-b414-f2fd19991415"
      },
      "outputs": [
        {
          "output_type": "stream",
          "name": "stdout",
          "text": [
            "Requirement already satisfied: pyspark in /usr/local/lib/python3.10/dist-packages (3.5.3)\n",
            "Requirement already satisfied: py4j==0.10.9.7 in /usr/local/lib/python3.10/dist-packages (from pyspark) (0.10.9.7)\n"
          ]
        }
      ],
      "source": [
        "!pip install pyspark"
      ]
    },
    {
      "cell_type": "code",
      "execution_count": 14,
      "metadata": {
        "colab": {
          "base_uri": "https://localhost:8080/"
        },
        "id": "UowJ7gaZLVnv",
        "outputId": "f12d74e6-11a2-45a9-f7ac-4ab436a5637f"
      },
      "outputs": [
        {
          "output_type": "stream",
          "name": "stdout",
          "text": [
            "(872856, 11)\n"
          ]
        }
      ],
      "source": [
        "df = pl.read_csv('/content/Fraud.csv')\n",
        "print(df.shape)"
      ]
    },
    {
      "cell_type": "code",
      "execution_count": 15,
      "metadata": {
        "colab": {
          "base_uri": "https://localhost:8080/",
          "height": 255
        },
        "id": "nu2JevSBL9XW",
        "outputId": "7cf92556-1f8e-4d37-9eaa-4a5ac76ac255"
      },
      "outputs": [
        {
          "output_type": "execute_result",
          "data": {
            "text/plain": [
              "shape: (5, 11)\n",
              "┌──────┬──────────┬──────────┬─────────────┬───┬─────────────┬─────────────┬─────────┬─────────────┐\n",
              "│ step ┆ type     ┆ amount   ┆ nameOrig    ┆ … ┆ oldbalanceD ┆ newbalanceD ┆ isFraud ┆ isFlaggedFr │\n",
              "│ ---  ┆ ---      ┆ ---      ┆ ---         ┆   ┆ est         ┆ est         ┆ ---     ┆ aud         │\n",
              "│ i64  ┆ str      ┆ f64      ┆ str         ┆   ┆ ---         ┆ ---         ┆ i64     ┆ ---         │\n",
              "│      ┆          ┆          ┆             ┆   ┆ f64         ┆ f64         ┆         ┆ i64         │\n",
              "╞══════╪══════════╪══════════╪═════════════╪═══╪═════════════╪═════════════╪═════════╪═════════════╡\n",
              "│ 1    ┆ PAYMENT  ┆ 9839.64  ┆ C1231006815 ┆ … ┆ 0.0         ┆ 0.0         ┆ 0       ┆ 0           │\n",
              "│ 1    ┆ PAYMENT  ┆ 1864.28  ┆ C1666544295 ┆ … ┆ 0.0         ┆ 0.0         ┆ 0       ┆ 0           │\n",
              "│ 1    ┆ TRANSFER ┆ 181.0    ┆ C1305486145 ┆ … ┆ 0.0         ┆ 0.0         ┆ 1       ┆ 0           │\n",
              "│ 1    ┆ CASH_OUT ┆ 181.0    ┆ C840083671  ┆ … ┆ 21182.0     ┆ 0.0         ┆ 1       ┆ 0           │\n",
              "│ 1    ┆ PAYMENT  ┆ 11668.14 ┆ C2048537720 ┆ … ┆ 0.0         ┆ 0.0         ┆ 0       ┆ 0           │\n",
              "└──────┴──────────┴──────────┴─────────────┴───┴─────────────┴─────────────┴─────────┴─────────────┘"
            ],
            "text/html": [
              "<div><style>\n",
              ".dataframe > thead > tr,\n",
              ".dataframe > tbody > tr {\n",
              "  text-align: right;\n",
              "  white-space: pre-wrap;\n",
              "}\n",
              "</style>\n",
              "<small>shape: (5, 11)</small><table border=\"1\" class=\"dataframe\"><thead><tr><th>step</th><th>type</th><th>amount</th><th>nameOrig</th><th>oldbalanceOrg</th><th>newbalanceOrig</th><th>nameDest</th><th>oldbalanceDest</th><th>newbalanceDest</th><th>isFraud</th><th>isFlaggedFraud</th></tr><tr><td>i64</td><td>str</td><td>f64</td><td>str</td><td>f64</td><td>f64</td><td>str</td><td>f64</td><td>f64</td><td>i64</td><td>i64</td></tr></thead><tbody><tr><td>1</td><td>&quot;PAYMENT&quot;</td><td>9839.64</td><td>&quot;C1231006815&quot;</td><td>170136.0</td><td>160296.36</td><td>&quot;M1979787155&quot;</td><td>0.0</td><td>0.0</td><td>0</td><td>0</td></tr><tr><td>1</td><td>&quot;PAYMENT&quot;</td><td>1864.28</td><td>&quot;C1666544295&quot;</td><td>21249.0</td><td>19384.72</td><td>&quot;M2044282225&quot;</td><td>0.0</td><td>0.0</td><td>0</td><td>0</td></tr><tr><td>1</td><td>&quot;TRANSFER&quot;</td><td>181.0</td><td>&quot;C1305486145&quot;</td><td>181.0</td><td>0.0</td><td>&quot;C553264065&quot;</td><td>0.0</td><td>0.0</td><td>1</td><td>0</td></tr><tr><td>1</td><td>&quot;CASH_OUT&quot;</td><td>181.0</td><td>&quot;C840083671&quot;</td><td>181.0</td><td>0.0</td><td>&quot;C38997010&quot;</td><td>21182.0</td><td>0.0</td><td>1</td><td>0</td></tr><tr><td>1</td><td>&quot;PAYMENT&quot;</td><td>11668.14</td><td>&quot;C2048537720&quot;</td><td>41554.0</td><td>29885.86</td><td>&quot;M1230701703&quot;</td><td>0.0</td><td>0.0</td><td>0</td><td>0</td></tr></tbody></table></div>"
            ]
          },
          "metadata": {},
          "execution_count": 15
        }
      ],
      "source": [
        "df.head()"
      ]
    },
    {
      "cell_type": "code",
      "execution_count": 16,
      "metadata": {
        "colab": {
          "base_uri": "https://localhost:8080/"
        },
        "id": "5kA3u2S6MHig",
        "outputId": "80b7ad1d-eeef-4e6a-aa9b-ccb6fa131b16"
      },
      "outputs": [
        {
          "output_type": "stream",
          "name": "stdout",
          "text": [
            "Column name: type\n",
            "Unique values for column 'type':\n",
            "       type\n",
            "0     DEBIT\n",
            "1   CASH_IN\n",
            "2  CASH_OUT\n",
            "3   PAYMENT\n",
            "4  TRANSFER\n",
            "\n",
            "\n",
            "Column name: nameOrig\n",
            "Unique values for column 'nameOrig':\n",
            "           nameOrig\n",
            "0        C395192415\n",
            "1       C2010999959\n",
            "2        C879425127\n",
            "3       C1934137185\n",
            "4        C748359635\n",
            "...             ...\n",
            "872664   C205322721\n",
            "872665  C2029672144\n",
            "872666   C313829691\n",
            "872667   C268047748\n",
            "872668    C26024280\n",
            "\n",
            "[872669 rows x 1 columns]\n",
            "\n",
            "\n",
            "Column name: nameDest\n",
            "Unique values for column 'nameDest':\n",
            "           nameDest\n",
            "0       M1982573452\n",
            "1        M871907992\n",
            "2        C155058250\n",
            "3        M236355215\n",
            "4       M2082180147\n",
            "...             ...\n",
            "370606  M2029735815\n",
            "370607   M755306138\n",
            "370608   M255054019\n",
            "370609  M1081365669\n",
            "370610   M976168115\n",
            "\n",
            "[370611 rows x 1 columns]\n",
            "\n",
            "\n"
          ]
        }
      ],
      "source": [
        "\n",
        "for col in df.columns:\n",
        "  if df[col].dtype == pl.Utf8:\n",
        "\n",
        "    print(f\"Column name: {col}\")\n",
        "    print(f\"Unique values for column '{col}':\")\n",
        "    print(df.select(pl.col(col).unique()).to_pandas())\n",
        "    print(\"\\n\")"
      ]
    },
    {
      "cell_type": "code",
      "source": [
        "df.describe()"
      ],
      "metadata": {
        "colab": {
          "base_uri": "https://localhost:8080/",
          "height": 401
        },
        "id": "XEJi750GTavK",
        "outputId": "c2eb3710-ed63-4683-82fe-df044a1411a6"
      },
      "execution_count": 17,
      "outputs": [
        {
          "output_type": "execute_result",
          "data": {
            "text/plain": [
              "shape: (9, 12)\n",
              "┌────────────┬───────────┬──────────┬───────────┬───┬───────────┬───────────┬──────────┬───────────┐\n",
              "│ statistic  ┆ step      ┆ type     ┆ amount    ┆ … ┆ oldbalanc ┆ newbalanc ┆ isFraud  ┆ isFlagged │\n",
              "│ ---        ┆ ---       ┆ ---      ┆ ---       ┆   ┆ eDest     ┆ eDest     ┆ ---      ┆ Fraud     │\n",
              "│ str        ┆ f64       ┆ str      ┆ f64       ┆   ┆ ---       ┆ ---       ┆ f64      ┆ ---       │\n",
              "│            ┆           ┆          ┆           ┆   ┆ f64       ┆ f64       ┆          ┆ f64       │\n",
              "╞════════════╪═══════════╪══════════╪═══════════╪═══╪═══════════╪═══════════╪══════════╪═══════════╡\n",
              "│ count      ┆ 872856.0  ┆ 872856   ┆ 872856.0  ┆ … ┆ 872855.0  ┆ 872855.0  ┆ 872855.0 ┆ 872855.0  │\n",
              "│ null_count ┆ 0.0       ┆ 0        ┆ 0.0       ┆ … ┆ 1.0       ┆ 1.0       ┆ 1.0      ┆ 1.0       │\n",
              "│ mean       ┆ 22.508587 ┆ null     ┆ 163604.60 ┆ … ┆ 985512.73 ┆ 1.1336e6  ┆ 0.000561 ┆ 0.0       │\n",
              "│            ┆           ┆          ┆ 6958      ┆   ┆ 4532      ┆           ┆          ┆           │\n",
              "│ std        ┆ 11.318998 ┆ null     ┆ 264446.68 ┆ … ┆ 2.3113e6  ┆ 2.4414e6  ┆ 0.023687 ┆ 0.0       │\n",
              "│            ┆           ┆          ┆ 9504      ┆   ┆           ┆           ┆          ┆           │\n",
              "│ min        ┆ 1.0       ┆ CASH_IN  ┆ 0.1       ┆ … ┆ 0.0       ┆ 0.0       ┆ 0.0      ┆ 0.0       │\n",
              "│ 25%        ┆ 13.0      ┆ null     ┆ 13030.0   ┆ … ┆ 0.0       ┆ 0.0       ┆ 0.0      ┆ 0.0       │\n",
              "│ 50%        ┆ 18.0      ┆ null     ┆ 80781.47  ┆ … ┆ 129974.03 ┆ 229589.93 ┆ 0.0      ┆ 0.0       │\n",
              "│ 75%        ┆ 35.0      ┆ null     ┆ 221061.93 ┆ … ┆ 921210.21 ┆ 1.1776e6  ┆ 0.0      ┆ 0.0       │\n",
              "│ max        ┆ 42.0      ┆ TRANSFER ┆ 1e7       ┆ … ┆ 4.1483e7  ┆ 4.2055e7  ┆ 1.0      ┆ 0.0       │\n",
              "└────────────┴───────────┴──────────┴───────────┴───┴───────────┴───────────┴──────────┴───────────┘"
            ],
            "text/html": [
              "<div><style>\n",
              ".dataframe > thead > tr,\n",
              ".dataframe > tbody > tr {\n",
              "  text-align: right;\n",
              "  white-space: pre-wrap;\n",
              "}\n",
              "</style>\n",
              "<small>shape: (9, 12)</small><table border=\"1\" class=\"dataframe\"><thead><tr><th>statistic</th><th>step</th><th>type</th><th>amount</th><th>nameOrig</th><th>oldbalanceOrg</th><th>newbalanceOrig</th><th>nameDest</th><th>oldbalanceDest</th><th>newbalanceDest</th><th>isFraud</th><th>isFlaggedFraud</th></tr><tr><td>str</td><td>f64</td><td>str</td><td>f64</td><td>str</td><td>f64</td><td>f64</td><td>str</td><td>f64</td><td>f64</td><td>f64</td><td>f64</td></tr></thead><tbody><tr><td>&quot;count&quot;</td><td>872856.0</td><td>&quot;872856&quot;</td><td>872856.0</td><td>&quot;872856&quot;</td><td>872856.0</td><td>872855.0</td><td>&quot;872855&quot;</td><td>872855.0</td><td>872855.0</td><td>872855.0</td><td>872855.0</td></tr><tr><td>&quot;null_count&quot;</td><td>0.0</td><td>&quot;0&quot;</td><td>0.0</td><td>&quot;0&quot;</td><td>0.0</td><td>1.0</td><td>&quot;1&quot;</td><td>1.0</td><td>1.0</td><td>1.0</td><td>1.0</td></tr><tr><td>&quot;mean&quot;</td><td>22.508587</td><td>null</td><td>163604.606958</td><td>null</td><td>878729.284548</td><td>899369.910682</td><td>null</td><td>985512.734532</td><td>1.1336e6</td><td>0.000561</td><td>0.0</td></tr><tr><td>&quot;std&quot;</td><td>11.318998</td><td>null</td><td>264446.689504</td><td>null</td><td>2.9779e6</td><td>3.0147e6</td><td>null</td><td>2.3113e6</td><td>2.4414e6</td><td>0.023687</td><td>0.0</td></tr><tr><td>&quot;min&quot;</td><td>1.0</td><td>&quot;CASH_IN&quot;</td><td>0.1</td><td>&quot;C1000004530&quot;</td><td>0.0</td><td>0.0</td><td>&quot;C1000015936&quot;</td><td>0.0</td><td>0.0</td><td>0.0</td><td>0.0</td></tr><tr><td>&quot;25%&quot;</td><td>13.0</td><td>null</td><td>13030.0</td><td>null</td><td>0.0</td><td>0.0</td><td>null</td><td>0.0</td><td>0.0</td><td>0.0</td><td>0.0</td></tr><tr><td>&quot;50%&quot;</td><td>18.0</td><td>null</td><td>80781.47</td><td>null</td><td>16182.0</td><td>0.0</td><td>null</td><td>129974.03</td><td>229589.93</td><td>0.0</td><td>0.0</td></tr><tr><td>&quot;75%&quot;</td><td>35.0</td><td>null</td><td>221061.93</td><td>null</td><td>145684.0</td><td>186846.41</td><td>null</td><td>921210.21</td><td>1.1776e6</td><td>0.0</td><td>0.0</td></tr><tr><td>&quot;max&quot;</td><td>42.0</td><td>&quot;TRANSFER&quot;</td><td>1e7</td><td>&quot;C999999254&quot;</td><td>3.8939e7</td><td>3.8946e7</td><td>&quot;M999996397&quot;</td><td>4.1483e7</td><td>4.2055e7</td><td>1.0</td><td>0.0</td></tr></tbody></table></div>"
            ]
          },
          "metadata": {},
          "execution_count": 17
        }
      ]
    },
    {
      "cell_type": "code",
      "execution_count": 18,
      "metadata": {
        "colab": {
          "base_uri": "https://localhost:8080/"
        },
        "id": "FZ0koMg0MbH9",
        "outputId": "d7501b12-6df8-463b-a2b8-0e2f08b4d365"
      },
      "outputs": [
        {
          "output_type": "stream",
          "name": "stdout",
          "text": [
            "Column: step\n",
            "Minimum value: 1\n",
            "Maximum value: 42\n",
            "Mean value: 22.508586754287077\n",
            "75th percentile: 35.0\n",
            "25th percentile: 13.0\n",
            "\n",
            "\n",
            "Column: amount\n",
            "Minimum value: 0.1\n",
            "Maximum value: 10000000.0\n",
            "Mean value: 163604.60695764248\n",
            "75th percentile: 221061.93\n",
            "25th percentile: 13030.0\n",
            "\n",
            "\n",
            "Column: oldbalanceOrg\n",
            "Minimum value: 0.0\n",
            "Maximum value: 38939424.03\n",
            "Mean value: 878729.2845480011\n",
            "75th percentile: 145684.0\n",
            "25th percentile: 0.0\n",
            "\n",
            "\n",
            "Column: newbalanceOrig\n",
            "Minimum value: 0.0\n",
            "Maximum value: 38946233.02\n",
            "Mean value: 899369.9106819232\n",
            "75th percentile: 186846.41\n",
            "25th percentile: 0.0\n",
            "\n",
            "\n",
            "Column: oldbalanceDest\n",
            "Minimum value: 0.0\n",
            "Maximum value: 41482697.12\n",
            "Mean value: 985512.7345322762\n",
            "75th percentile: 921210.21\n",
            "25th percentile: 0.0\n",
            "\n",
            "\n",
            "Column: newbalanceDest\n",
            "Minimum value: 0.0\n",
            "Maximum value: 42054659.73\n",
            "Mean value: 1133609.6598843222\n",
            "75th percentile: 1177562.54\n",
            "25th percentile: 0.0\n",
            "\n",
            "\n",
            "Column: isFraud\n",
            "Minimum value: 0\n",
            "Maximum value: 1\n",
            "Mean value: 0.0005613761735912609\n",
            "75th percentile: 0.0\n",
            "25th percentile: 0.0\n",
            "\n",
            "\n",
            "Column: isFlaggedFraud\n",
            "Minimum value: 0\n",
            "Maximum value: 0\n",
            "Mean value: 0.0\n",
            "75th percentile: 0.0\n",
            "25th percentile: 0.0\n",
            "\n",
            "\n"
          ]
        }
      ],
      "source": [
        "# Get columns with float and int data types\n",
        "float_int_cols = [col for col, dtype in df.schema.items() if dtype in (pl.Float32, pl.Float64, pl.Int8, pl.Int16, pl.Int32, pl.Int64)]\n",
        "\n",
        "# Calculate min and max for each selected column\n",
        "for col in float_int_cols:\n",
        "    min_val = df[col].min()\n",
        "    max_val = df[col].max()\n",
        "    mean_value = df[col].mean()\n",
        "    percentile75 = df[col].quantile(0.75)\n",
        "    percentile25 = df[col].quantile(0.25)\n",
        "    print(f\"Column: {col}\")\n",
        "    print(f\"Minimum value: {min_val}\")\n",
        "    print(f\"Maximum value: {max_val}\")\n",
        "    print(f\"Mean value: {mean_value}\")\n",
        "    print(f\"75th percentile: {percentile75}\")\n",
        "    print(f\"25th percentile: {percentile25}\")\n",
        "    print(\"\\n\")"
      ]
    },
    {
      "source": [
        "\n",
        "\n",
        "q = (\n",
        "    df.lazy()\n",
        "    .group_by(\"isFraud\")  # Group by 'isFraud'\n",
        "    .agg(pl.count().alias(\"count\"))  # Count occurrences\n",
        "    .sort(\"count\", descending=True)  # Sort by count in descending order\n",
        ")\n",
        "\n",
        "result_df = q.collect()  # Execute the query and get the result DataFrame\n",
        "print(result_df)"
      ],
      "cell_type": "code",
      "metadata": {
        "colab": {
          "base_uri": "https://localhost:8080/"
        },
        "id": "bUnefl5dVnXu",
        "outputId": "9051f1d3-082e-44df-a058-47d43b962719"
      },
      "execution_count": 19,
      "outputs": [
        {
          "output_type": "stream",
          "name": "stdout",
          "text": [
            "shape: (3, 2)\n",
            "┌─────────┬────────┐\n",
            "│ isFraud ┆ count  │\n",
            "│ ---     ┆ ---    │\n",
            "│ i64     ┆ u32    │\n",
            "╞═════════╪════════╡\n",
            "│ 0       ┆ 872365 │\n",
            "│ 1       ┆ 490    │\n",
            "│ null    ┆ 1      │\n",
            "└─────────┴────────┘\n"
          ]
        }
      ]
    },
    {
      "cell_type": "code",
      "source": [
        "\n",
        "\n",
        "# Set the display options to show all columns and rows\n",
        "#pl.Config.set_tbl_rows(None)  # Set to None to display all rows\n",
        "pl.Config.set_tbl_cols(None)  # Set to None to display all columns\n",
        "\n",
        "print(df)"
      ],
      "metadata": {
        "colab": {
          "base_uri": "https://localhost:8080/"
        },
        "id": "wvvWUL--bFYC",
        "outputId": "5038968d-12d3-41fd-fc62-185e3ce22de3"
      },
      "execution_count": 20,
      "outputs": [
        {
          "output_type": "stream",
          "name": "stdout",
          "text": [
            "shape: (872_856, 11)\n",
            "┌──────┬──────────┬───────────┬─────────────┬───┬─────────────┬─────────────┬─────────┬────────────┐\n",
            "│ step ┆ type     ┆ amount    ┆ nameOrig    ┆ … ┆ oldbalanceD ┆ newbalanceD ┆ isFraud ┆ isFlaggedF │\n",
            "│ ---  ┆ ---      ┆ ---       ┆ ---         ┆   ┆ est         ┆ est         ┆ ---     ┆ raud       │\n",
            "│ i64  ┆ str      ┆ f64       ┆ str         ┆   ┆ ---         ┆ ---         ┆ i64     ┆ ---        │\n",
            "│      ┆          ┆           ┆             ┆   ┆ f64         ┆ f64         ┆         ┆ i64        │\n",
            "╞══════╪══════════╪═══════════╪═════════════╪═══╪═════════════╪═════════════╪═════════╪════════════╡\n",
            "│ 1    ┆ PAYMENT  ┆ 9839.64   ┆ C1231006815 ┆ … ┆ 0.0         ┆ 0.0         ┆ 0       ┆ 0          │\n",
            "│ 1    ┆ PAYMENT  ┆ 1864.28   ┆ C1666544295 ┆ … ┆ 0.0         ┆ 0.0         ┆ 0       ┆ 0          │\n",
            "│ 1    ┆ TRANSFER ┆ 181.0     ┆ C1305486145 ┆ … ┆ 0.0         ┆ 0.0         ┆ 1       ┆ 0          │\n",
            "│ 1    ┆ CASH_OUT ┆ 181.0     ┆ C840083671  ┆ … ┆ 21182.0     ┆ 0.0         ┆ 1       ┆ 0          │\n",
            "│ 1    ┆ PAYMENT  ┆ 11668.14  ┆ C2048537720 ┆ … ┆ 0.0         ┆ 0.0         ┆ 0       ┆ 0          │\n",
            "│ …    ┆ …        ┆ …         ┆ …           ┆ … ┆ …           ┆ …           ┆ …       ┆ …          │\n",
            "│ 42   ┆ TRANSFER ┆ 427621.76 ┆ C1356866433 ┆ … ┆ 6.2846e6    ┆ 6.7122e6    ┆ 0       ┆ 0          │\n",
            "│ 42   ┆ CASH_OUT ┆ 122654.14 ┆ C2066761451 ┆ … ┆ 1.0945e6    ┆ 1.2171e6    ┆ 0       ┆ 0          │\n",
            "│ 42   ┆ TRANSFER ┆ 868754.37 ┆ C746266202  ┆ … ┆ 212858.53   ┆ 1081612.9   ┆ 0       ┆ 0          │\n",
            "│ 42   ┆ CASH_OUT ┆ 343657.99 ┆ C210413262  ┆ … ┆ 0.0         ┆ 343657.99   ┆ 0       ┆ 0          │\n",
            "│ 42   ┆ CASH_OUT ┆ 203142.23 ┆ C1571250421 ┆ … ┆ null        ┆ null        ┆ null    ┆ null       │\n",
            "└──────┴──────────┴───────────┴─────────────┴───┴─────────────┴─────────────┴─────────┴────────────┘\n"
          ]
        }
      ]
    },
    {
      "source": [
        "# prompt: Handle missing values in pl df. I want to see all column output. the output is truc\n",
        "\n",
        "# Assuming df is your Polars DataFrame\n",
        "for col in df.columns:\n",
        "  # Check for missing values in each column\n",
        "  if df[col].null_count() > 0:\n",
        "    print(f\"Column '{col}' has missing values.\")\n",
        "    # Use drop_nulls to remove rows with missing values in the current column\n",
        "    df = df.drop_nulls(subset=[col])\n",
        "    print(f\"Missing values in column '{col}' have been removed.\")\n",
        "  else:\n",
        "    print(f\"Column '{col}' has no missing values.\")"
      ],
      "cell_type": "code",
      "metadata": {
        "colab": {
          "base_uri": "https://localhost:8080/"
        },
        "id": "jUBtXeGa0lQ9",
        "outputId": "1fdccf88-8f54-407e-8b2e-299a862e92ea"
      },
      "execution_count": 21,
      "outputs": [
        {
          "output_type": "stream",
          "name": "stdout",
          "text": [
            "Column 'step' has no missing values.\n",
            "Column 'type' has no missing values.\n",
            "Column 'amount' has no missing values.\n",
            "Column 'nameOrig' has no missing values.\n",
            "Column 'oldbalanceOrg' has no missing values.\n",
            "Column 'newbalanceOrig' has missing values.\n",
            "Missing values in column 'newbalanceOrig' have been removed.\n",
            "Column 'nameDest' has no missing values.\n",
            "Column 'oldbalanceDest' has no missing values.\n",
            "Column 'newbalanceDest' has no missing values.\n",
            "Column 'isFraud' has no missing values.\n",
            "Column 'isFlaggedFraud' has no missing values.\n"
          ]
        }
      ]
    },
    {
      "cell_type": "code",
      "source": [
        "#create a new col in df using polar lib for the calculation: oldbalanceOrg - newbalanceOrg and 'oldbalanceDest-newbalanceOrig.\n",
        "\n",
        "\n",
        "df = df.with_columns(\n",
        "    (pl.col(\"oldbalanceOrg\") - pl.col(\"newbalanceOrig\")).alias(\"balance_diff_orig\"),\n",
        "    (pl.col(\"oldbalanceDest\") - pl.col(\"newbalanceDest\")).alias(\"balance_diff_dest\")\n",
        ")"
      ],
      "metadata": {
        "id": "WqQiIhHFkkfM"
      },
      "execution_count": 22,
      "outputs": []
    },
    {
      "cell_type": "code",
      "source": [
        "df.head()"
      ],
      "metadata": {
        "id": "0zO-RFOclaPb",
        "colab": {
          "base_uri": "https://localhost:8080/",
          "height": 275
        },
        "outputId": "31dbda80-2d37-4511-e5e1-51f406a76087"
      },
      "execution_count": 23,
      "outputs": [
        {
          "output_type": "execute_result",
          "data": {
            "text/plain": [
              "shape: (5, 13)\n",
              "┌──────┬──────────┬──────────┬─────────────┬───┬─────────┬─────────────┬─────────────┬─────────────┐\n",
              "│ step ┆ type     ┆ amount   ┆ nameOrig    ┆ … ┆ isFraud ┆ isFlaggedFr ┆ balance_dif ┆ balance_dif │\n",
              "│ ---  ┆ ---      ┆ ---      ┆ ---         ┆   ┆ ---     ┆ aud         ┆ f_orig      ┆ f_dest      │\n",
              "│ i64  ┆ str      ┆ f64      ┆ str         ┆   ┆ i64     ┆ ---         ┆ ---         ┆ ---         │\n",
              "│      ┆          ┆          ┆             ┆   ┆         ┆ i64         ┆ f64         ┆ f64         │\n",
              "╞══════╪══════════╪══════════╪═════════════╪═══╪═════════╪═════════════╪═════════════╪═════════════╡\n",
              "│ 1    ┆ PAYMENT  ┆ 9839.64  ┆ C1231006815 ┆ … ┆ 0       ┆ 0           ┆ 9839.64     ┆ 0.0         │\n",
              "│ 1    ┆ PAYMENT  ┆ 1864.28  ┆ C1666544295 ┆ … ┆ 0       ┆ 0           ┆ 1864.28     ┆ 0.0         │\n",
              "│ 1    ┆ TRANSFER ┆ 181.0    ┆ C1305486145 ┆ … ┆ 1       ┆ 0           ┆ 181.0       ┆ 0.0         │\n",
              "│ 1    ┆ CASH_OUT ┆ 181.0    ┆ C840083671  ┆ … ┆ 1       ┆ 0           ┆ 181.0       ┆ 21182.0     │\n",
              "│ 1    ┆ PAYMENT  ┆ 11668.14 ┆ C2048537720 ┆ … ┆ 0       ┆ 0           ┆ 11668.14    ┆ 0.0         │\n",
              "└──────┴──────────┴──────────┴─────────────┴───┴─────────┴─────────────┴─────────────┴─────────────┘"
            ],
            "text/html": [
              "<div><style>\n",
              ".dataframe > thead > tr,\n",
              ".dataframe > tbody > tr {\n",
              "  text-align: right;\n",
              "  white-space: pre-wrap;\n",
              "}\n",
              "</style>\n",
              "<small>shape: (5, 13)</small><table border=\"1\" class=\"dataframe\"><thead><tr><th>step</th><th>type</th><th>amount</th><th>nameOrig</th><th>oldbalanceOrg</th><th>newbalanceOrig</th><th>nameDest</th><th>oldbalanceDest</th><th>newbalanceDest</th><th>isFraud</th><th>isFlaggedFraud</th><th>balance_diff_orig</th><th>balance_diff_dest</th></tr><tr><td>i64</td><td>str</td><td>f64</td><td>str</td><td>f64</td><td>f64</td><td>str</td><td>f64</td><td>f64</td><td>i64</td><td>i64</td><td>f64</td><td>f64</td></tr></thead><tbody><tr><td>1</td><td>&quot;PAYMENT&quot;</td><td>9839.64</td><td>&quot;C1231006815&quot;</td><td>170136.0</td><td>160296.36</td><td>&quot;M1979787155&quot;</td><td>0.0</td><td>0.0</td><td>0</td><td>0</td><td>9839.64</td><td>0.0</td></tr><tr><td>1</td><td>&quot;PAYMENT&quot;</td><td>1864.28</td><td>&quot;C1666544295&quot;</td><td>21249.0</td><td>19384.72</td><td>&quot;M2044282225&quot;</td><td>0.0</td><td>0.0</td><td>0</td><td>0</td><td>1864.28</td><td>0.0</td></tr><tr><td>1</td><td>&quot;TRANSFER&quot;</td><td>181.0</td><td>&quot;C1305486145&quot;</td><td>181.0</td><td>0.0</td><td>&quot;C553264065&quot;</td><td>0.0</td><td>0.0</td><td>1</td><td>0</td><td>181.0</td><td>0.0</td></tr><tr><td>1</td><td>&quot;CASH_OUT&quot;</td><td>181.0</td><td>&quot;C840083671&quot;</td><td>181.0</td><td>0.0</td><td>&quot;C38997010&quot;</td><td>21182.0</td><td>0.0</td><td>1</td><td>0</td><td>181.0</td><td>21182.0</td></tr><tr><td>1</td><td>&quot;PAYMENT&quot;</td><td>11668.14</td><td>&quot;C2048537720&quot;</td><td>41554.0</td><td>29885.86</td><td>&quot;M1230701703&quot;</td><td>0.0</td><td>0.0</td><td>0</td><td>0</td><td>11668.14</td><td>0.0</td></tr></tbody></table></div>"
            ]
          },
          "metadata": {},
          "execution_count": 23
        }
      ]
    },
    {
      "source": [
        "import matplotlib.pyplot as plt\n",
        "import seaborn as sns\n",
        "import polars as pl\n",
        "\n",
        "# Assuming df is your Polars DataFrame\n",
        "numeric_cols = [col for col in df.columns if df[col].dtype in (pl.Float32, pl.Float64, pl.Int8, pl.Int16, pl.Int32, pl.Int64)]\n",
        "num_plots = len(numeric_cols)\n",
        "\n",
        "# Calculate the number of rows and columns for subplots\n",
        "num_rows = int(num_plots**0.5)\n",
        "num_cols = (num_plots + num_rows - 1) // num_rows\n",
        "\n",
        "# Create subplots\n",
        "fig, axes = plt.subplots(num_rows, num_cols, figsize=(15, 10))\n",
        "\n",
        "# Flatten the axes array if necessary\n",
        "if num_plots > 1:\n",
        "    axes = axes.flatten()\n",
        "else:\n",
        "    axes = [axes]  # Wrap single Axes in a list\n",
        "\n",
        "# Iterate through numeric columns and create box plots\n",
        "for i, col in enumerate(numeric_cols):\n",
        "    sns.boxplot(x=df[col].to_pandas(), ax=axes[i])  # Assign plot to the correct subplot\n",
        "    axes[i].set_title(f'Box Plot of {col}')\n",
        "    axes[i].set_xlabel(col)  # Use col for x-axis label instead of 'isFraud'\n",
        "    axes[i].set_ylabel('')  # Remove y-axis label since it's redundant for box plots\n",
        "\n",
        "# Hide any unused subplots\n",
        "for i in range(num_plots, num_rows * num_cols):\n",
        "    axes[i].axis('off')\n",
        "\n",
        "plt.tight_layout()\n",
        "plt.show()"
      ],
      "cell_type": "code",
      "metadata": {
        "id": "AzeiBtS9hybU",
        "colab": {
          "base_uri": "https://localhost:8080/",
          "height": 836
        },
        "outputId": "417bc667-e86d-4470-ea25-9004c0b8ed47"
      },
      "execution_count": 24,
      "outputs": [
        {
          "output_type": "display_data",
          "data": {
            "text/plain": [
              "<Figure size 1500x1000 with 12 Axes>"
            ],
            "image/png": "[encoded data removed]"
          },
          "metadata": {}
        }
      ]
    },
    {
      "cell_type": "code",
      "source": [
        "print(df.columns)"
      ],
      "metadata": {
        "id": "0T3vz_EAc-0g",
        "colab": {
          "base_uri": "https://localhost:8080/"
        },
        "outputId": "f84e4ae8-e6de-4751-d96e-2b696999ffa2"
      },
      "execution_count": 25,
      "outputs": [
        {
          "output_type": "stream",
          "name": "stdout",
          "text": [
            "['step', 'type', 'amount', 'nameOrig', 'oldbalanceOrg', 'newbalanceOrig', 'nameDest', 'oldbalanceDest', 'newbalanceDest', 'isFraud', 'isFlaggedFraud', 'balance_diff_orig', 'balance_diff_dest']\n"
          ]
        }
      ]
    },
    {
      "cell_type": "code",
      "source": [
        "\n",
        "\n",
        "# Assuming df is your Polars DataFrame\n",
        "cols_to_drop = ['oldbalanceOrg', 'newbalanceOrig', 'oldbalanceDest', 'newbalanceDest']\n",
        "df = df.drop(cols_to_drop)\n",
        "print(df.columns)"
      ],
      "metadata": {
        "id": "FgkOUrIPsjOe",
        "colab": {
          "base_uri": "https://localhost:8080/",
          "height": 371
        },
        "outputId": "70460ab7-790a-4293-cab8-ef90e3d18b6d"
      },
      "execution_count": 28,
      "outputs": [
        {
          "output_type": "error",
          "ename": "ColumnNotFoundError",
          "evalue": "\"oldbalanceDest\" not found",
          "traceback": [
            "\u001b[0;31m---------------------------------------------------------------------------\u001b[0m",
            "\u001b[0;31mColumnNotFoundError\u001b[0m                       Traceback (most recent call last)",
            "\u001b[0;32m<ipython-input-28-f0c0bec7356a>\u001b[0m in \u001b[0;36m<cell line: 3>\u001b[0;34m()\u001b[0m\n\u001b[1;32m      1\u001b[0m \u001b[0;31m# Assuming df is your Polars DataFrame\u001b[0m\u001b[0;34m\u001b[0m\u001b[0;34m\u001b[0m\u001b[0m\n\u001b[1;32m      2\u001b[0m \u001b[0mcols_to_drop\u001b[0m \u001b[0;34m=\u001b[0m \u001b[0;34m[\u001b[0m\u001b[0;34m'oldbalanceOrg'\u001b[0m\u001b[0;34m,\u001b[0m \u001b[0;34m'newbalanceOrig'\u001b[0m\u001b[0;34m,\u001b[0m \u001b[0;34m'oldbalanceDest'\u001b[0m\u001b[0;34m,\u001b[0m \u001b[0;34m'newbalanceDest'\u001b[0m\u001b[0;34m]\u001b[0m\u001b[0;34m\u001b[0m\u001b[0;34m\u001b[0m\u001b[0m\n\u001b[0;32m----> 3\u001b[0;31m \u001b[0mdf\u001b[0m \u001b[0;34m=\u001b[0m \u001b[0mdf\u001b[0m\u001b[0;34m.\u001b[0m\u001b[0mdrop\u001b[0m\u001b[0;34m(\u001b[0m\u001b[0mcols_to_drop\u001b[0m\u001b[0;34m)\u001b[0m\u001b[0;34m\u001b[0m\u001b[0;34m\u001b[0m\u001b[0m\n\u001b[0m\u001b[1;32m      4\u001b[0m \u001b[0mprint\u001b[0m\u001b[0;34m(\u001b[0m\u001b[0mdf\u001b[0m\u001b[0;34m.\u001b[0m\u001b[0mcolumns\u001b[0m\u001b[0;34m)\u001b[0m\u001b[0;34m\u001b[0m\u001b[0;34m\u001b[0m\u001b[0m\n",
            "\u001b[0;32m/usr/local/lib/python3.10/dist-packages/polars/dataframe/frame.py\u001b[0m in \u001b[0;36mdrop\u001b[0;34m(self, strict, *columns)\u001b[0m\n\u001b[1;32m   7527\u001b[0m         \u001b[0;31m└\u001b[0m\u001b[0;31m─\u001b[0m\u001b[0;31m─\u001b[0m\u001b[0;31m─\u001b[0m\u001b[0;31m─\u001b[0m\u001b[0;31m─\u001b[0m\u001b[0;31m┘\u001b[0m\u001b[0;34m\u001b[0m\u001b[0;34m\u001b[0m\u001b[0m\n\u001b[1;32m   7528\u001b[0m         \"\"\"\n\u001b[0;32m-> 7529\u001b[0;31m         \u001b[0;32mreturn\u001b[0m \u001b[0mself\u001b[0m\u001b[0;34m.\u001b[0m\u001b[0mlazy\u001b[0m\u001b[0;34m(\u001b[0m\u001b[0;34m)\u001b[0m\u001b[0;34m.\u001b[0m\u001b[0mdrop\u001b[0m\u001b[0;34m(\u001b[0m\u001b[0;34m*\u001b[0m\u001b[0mcolumns\u001b[0m\u001b[0;34m,\u001b[0m \u001b[0mstrict\u001b[0m\u001b[0;34m=\u001b[0m\u001b[0mstrict\u001b[0m\u001b[0;34m)\u001b[0m\u001b[0;34m.\u001b[0m\u001b[0mcollect\u001b[0m\u001b[0;34m(\u001b[0m\u001b[0m_eager\u001b[0m\u001b[0;34m=\u001b[0m\u001b[0;32mTrue\u001b[0m\u001b[0;34m)\u001b[0m\u001b[0;34m\u001b[0m\u001b[0;34m\u001b[0m\u001b[0m\n\u001b[0m\u001b[1;32m   7530\u001b[0m \u001b[0;34m\u001b[0m\u001b[0m\n\u001b[1;32m   7531\u001b[0m     \u001b[0;32mdef\u001b[0m \u001b[0mdrop_in_place\u001b[0m\u001b[0;34m(\u001b[0m\u001b[0mself\u001b[0m\u001b[0;34m,\u001b[0m \u001b[0mname\u001b[0m\u001b[0;34m:\u001b[0m \u001b[0mstr\u001b[0m\u001b[0;34m)\u001b[0m \u001b[0;34m->\u001b[0m \u001b[0mSeries\u001b[0m\u001b[0;34m:\u001b[0m\u001b[0;34m\u001b[0m\u001b[0;34m\u001b[0m\u001b[0m\n",
            "\u001b[0;32m/usr/local/lib/python3.10/dist-packages/polars/lazyframe/frame.py\u001b[0m in \u001b[0;36mcollect\u001b[0;34m(self, type_coercion, predicate_pushdown, projection_pushdown, simplify_expression, slice_pushdown, comm_subplan_elim, comm_subexpr_elim, cluster_with_columns, no_optimization, streaming, engine, background, _eager, **_kwargs)\u001b[0m\n\u001b[1;32m   2030\u001b[0m         \u001b[0;31m# Only for testing purposes\u001b[0m\u001b[0;34m\u001b[0m\u001b[0;34m\u001b[0m\u001b[0m\n\u001b[1;32m   2031\u001b[0m         \u001b[0mcallback\u001b[0m \u001b[0;34m=\u001b[0m \u001b[0m_kwargs\u001b[0m\u001b[0;34m.\u001b[0m\u001b[0mget\u001b[0m\u001b[0;34m(\u001b[0m\u001b[0;34m\"post_opt_callback\"\u001b[0m\u001b[0;34m,\u001b[0m \u001b[0mcallback\u001b[0m\u001b[0;34m)\u001b[0m\u001b[0;34m\u001b[0m\u001b[0;34m\u001b[0m\u001b[0m\n\u001b[0;32m-> 2032\u001b[0;31m         \u001b[0;32mreturn\u001b[0m \u001b[0mwrap_df\u001b[0m\u001b[0;34m(\u001b[0m\u001b[0mldf\u001b[0m\u001b[0;34m.\u001b[0m\u001b[0mcollect\u001b[0m\u001b[0;34m(\u001b[0m\u001b[0mcallback\u001b[0m\u001b[0;34m)\u001b[0m\u001b[0;34m)\u001b[0m\u001b[0;34m\u001b[0m\u001b[0;34m\u001b[0m\u001b[0m\n\u001b[0m\u001b[1;32m   2033\u001b[0m \u001b[0;34m\u001b[0m\u001b[0m\n\u001b[1;32m   2034\u001b[0m     \u001b[0;34m@\u001b[0m\u001b[0moverload\u001b[0m\u001b[0;34m\u001b[0m\u001b[0;34m\u001b[0m\u001b[0m\n",
            "\u001b[0;31mColumnNotFoundError\u001b[0m: \"oldbalanceDest\" not found"
          ]
        }
      ]
    },
    {
      "cell_type": "code",
      "source": [
        "\n",
        "# Assuming `df` is your original DataFrame\n",
        "# Step 1: Split the data into majority (isFraud = 0) and minority (isFraud = 1)\n",
        "df_majority = df.filter(pl.col(\"isFraud\") == 0)\n",
        "df_minority = df.filter(pl.col(\"isFraud\") == 1)\n",
        "\n",
        "# Step 2: Undersample the majority class\n",
        "n_minority = df_minority.shape[0]\n",
        "\n",
        "# Randomly select a subset of the majority class\n",
        "df_majority_undersampled = df_majority.sample(n=n_minority, with_replacement=False, seed=42)\n",
        "\n",
        "# Step 3: Concatenate the undersampled majority and minority classes\n",
        "df_balanced = pl.concat([df_majority_undersampled, df_minority])\n",
        "\n",
        "# Step 4: Shuffle the rows to mix majority and minority examples\n",
        "df_balanced = df_balanced.sample(n=df_balanced.shape[0], with_replacement=False, seed=42)\n",
        "\n",
        "\n",
        "\n",
        "df_balanced = pd.DataFrame(df_balanced)\n",
        "df_balanced.columns = df.columns\n",
        "# Check if the column headers are still intact\n",
        "print(df_balanced.columns)\n",
        "print(df_balanced)\n"
      ],
      "metadata": {
        "id": "dBK6tmLCjJK9",
        "colab": {
          "base_uri": "https://localhost:8080/"
        },
        "outputId": "c6f1129a-da46-4f19-93ee-714d12676fd5"
      },
      "execution_count": 65,
      "outputs": [
        {
          "output_type": "stream",
          "name": "stdout",
          "text": [
            "Index(['step', 'type', 'amount', 'nameOrig', 'nameDest', 'isFraud',\n",
            "       'isFlaggedFraud', 'balance_diff_orig', 'balance_diff_dest'],\n",
            "      dtype='object')\n",
            "    step      type      amount     nameOrig     nameDest isFraud  \\\n",
            "0     11   PAYMENT      8224.1  C1759062772  M2108211751       0   \n",
            "1     15  CASH_OUT   479760.59   C197908524  C2099617060       0   \n",
            "2     14  TRANSFER   425971.09  C1153781287    C35084360       0   \n",
            "3     35   PAYMENT    20999.92   C265162747  M1586188690       0   \n",
            "4     19  CASH_OUT    16598.73  C1285727199   C895114532       0   \n",
            "..   ...       ...         ...          ...          ...     ...   \n",
            "975   42  CASH_OUT   334276.08  C1006070662  C1475265472       1   \n",
            "976   42  TRANSFER  3569720.42  C1985844506   C440567141       1   \n",
            "977   42  CASH_OUT  3569720.42  C2012983997   C365271329       1   \n",
            "978   42  TRANSFER  1566057.28   C646867271   C701554593       1   \n",
            "979   42  CASH_OUT  1566057.28  C1496808239   C737489499       1   \n",
            "\n",
            "    isFlaggedFraud balance_diff_orig balance_diff_dest  \n",
            "0                0            8224.1               0.0  \n",
            "1                0           17772.0         -789115.9  \n",
            "2                0          256830.0         -748291.0  \n",
            "3                0          12271.31               0.0  \n",
            "4                0            5066.0           10126.0  \n",
            "..             ...               ...               ...  \n",
            "975              0         334276.08        -334276.07  \n",
            "976              0        3569720.42               0.0  \n",
            "977              0        3569720.42       -3569720.42  \n",
            "978              0        1566057.28               0.0  \n",
            "979              0        1566057.28       -1566057.28  \n",
            "\n",
            "[980 rows x 9 columns]\n"
          ]
        }
      ]
    },
    {
      "cell_type": "code",
      "source": [
        "df_balanced.head()"
      ],
      "metadata": {
        "colab": {
          "base_uri": "https://localhost:8080/",
          "height": 206
        },
        "id": "wrr7YSEFF5a6",
        "outputId": "b847556a-f045-4c1c-83b0-06a71d88df17"
      },
      "execution_count": 66,
      "outputs": [
        {
          "output_type": "execute_result",
          "data": {
            "text/plain": [
              "  step      type     amount     nameOrig     nameDest isFraud isFlaggedFraud  \\\n",
              "0   11   PAYMENT     8224.1  C1759062772  M2108211751       0              0   \n",
              "1   15  CASH_OUT  479760.59   C197908524  C2099617060       0              0   \n",
              "2   14  TRANSFER  425971.09  C1153781287    C35084360       0              0   \n",
              "3   35   PAYMENT   20999.92   C265162747  M1586188690       0              0   \n",
              "4   19  CASH_OUT   16598.73  C1285727199   C895114532       0              0   \n",
              "\n",
              "  balance_diff_orig balance_diff_dest  \n",
              "0            8224.1               0.0  \n",
              "1           17772.0         -789115.9  \n",
              "2          256830.0         -748291.0  \n",
              "3          12271.31               0.0  \n",
              "4            5066.0           10126.0  "
            ],
            "text/html": [
              "\n",
              "  <div id=\"df-6412a8ec-ea27-48c3-a71d-144064771536\" class=\"colab-df-container\">\n",
              "    <div>\n",
              "<style scoped>\n",
              "    .dataframe tbody tr th:only-of-type {\n",
              "        vertical-align: middle;\n",
              "    }\n",
              "\n",
              "    .dataframe tbody tr th {\n",
              "        vertical-align: top;\n",
              "    }\n",
              "\n",
              "    .dataframe thead th {\n",
              "        text-align: right;\n",
              "    }\n",
              "</style>\n",
              "<table border=\"1\" class=\"dataframe\">\n",
              "  <thead>\n",
              "    <tr style=\"text-align: right;\">\n",
              "      <th></th>\n",
              "      <th>step</th>\n",
              "      <th>type</th>\n",
              "      <th>amount</th>\n",
              "      <th>nameOrig</th>\n",
              "      <th>nameDest</th>\n",
              "      <th>isFraud</th>\n",
              "      <th>isFlaggedFraud</th>\n",
              "      <th>balance_diff_orig</th>\n",
              "      <th>balance_diff_dest</th>\n",
              "    </tr>\n",
              "  </thead>\n",
              "  <tbody>\n",
              "    <tr>\n",
              "      <th>0</th>\n",
              "      <td>11</td>\n",
              "      <td>PAYMENT</td>\n",
              "      <td>8224.1</td>\n",
              "      <td>C1759062772</td>\n",
              "      <td>M2108211751</td>\n",
              "      <td>0</td>\n",
              "      <td>0</td>\n",
              "      <td>8224.1</td>\n",
              "      <td>0.0</td>\n",
              "    </tr>\n",
              "    <tr>\n",
              "      <th>1</th>\n",
              "      <td>15</td>\n",
              "      <td>CASH_OUT</td>\n",
              "      <td>479760.59</td>\n",
              "      <td>C197908524</td>\n",
              "      <td>C2099617060</td>\n",
              "      <td>0</td>\n",
              "      <td>0</td>\n",
              "      <td>17772.0</td>\n",
              "      <td>-789115.9</td>\n",
              "    </tr>\n",
              "    <tr>\n",
              "      <th>2</th>\n",
              "      <td>14</td>\n",
              "      <td>TRANSFER</td>\n",
              "      <td>425971.09</td>\n",
              "      <td>C1153781287</td>\n",
              "      <td>C35084360</td>\n",
              "      <td>0</td>\n",
              "      <td>0</td>\n",
              "      <td>256830.0</td>\n",
              "      <td>-748291.0</td>\n",
              "    </tr>\n",
              "    <tr>\n",
              "      <th>3</th>\n",
              "      <td>35</td>\n",
              "      <td>PAYMENT</td>\n",
              "      <td>20999.92</td>\n",
              "      <td>C265162747</td>\n",
              "      <td>M1586188690</td>\n",
              "      <td>0</td>\n",
              "      <td>0</td>\n",
              "      <td>12271.31</td>\n",
              "      <td>0.0</td>\n",
              "    </tr>\n",
              "    <tr>\n",
              "      <th>4</th>\n",
              "      <td>19</td>\n",
              "      <td>CASH_OUT</td>\n",
              "      <td>16598.73</td>\n",
              "      <td>C1285727199</td>\n",
              "      <td>C895114532</td>\n",
              "      <td>0</td>\n",
              "      <td>0</td>\n",
              "      <td>5066.0</td>\n",
              "      <td>10126.0</td>\n",
              "    </tr>\n",
              "  </tbody>\n",
              "</table>\n",
              "</div>\n",
              "    <div class=\"colab-df-buttons\">\n",
              "\n",
              "  <div class=\"colab-df-container\">\n",
              "    <button class=\"colab-df-convert\" onclick=\"convertToInteractive('df-6412a8ec-ea27-48c3-a71d-144064771536')\"\n",
              "            title=\"Convert this dataframe to an interactive table.\"\n",
              "            style=\"display:none;\">\n",
              "\n",
              "  <svg xmlns=\"http://www.w3.org/2000/svg\" height=\"24px\" viewBox=\"0 -960 960 960\">\n",
              "    <path d=\"M120-120v-720h720v720H120Zm60-500h600v-160H180v160Zm220 220h160v-160H400v160Zm0 220h160v-160H400v160ZM180-400h160v-160H180v160Zm440 0h160v-160H620v160ZM180-180h160v-160H180v160Zm440 0h160v-160H620v160Z\"/>\n",
              "  </svg>\n",
              "    </button>\n",
              "\n",
              "  <style>\n",
              "    .colab-df-container {\n",
              "      display:flex;\n",
              "      gap: 12px;\n",
              "    }\n",
              "\n",
              "    .colab-df-convert {\n",
              "      background-color: #E8F0FE;\n",
              "      border: none;\n",
              "      border-radius: 50%;\n",
              "      cursor: pointer;\n",
              "      display: none;\n",
              "      fill: #1967D2;\n",
              "      height: 32px;\n",
              "      padding: 0 0 0 0;\n",
              "      width: 32px;\n",
              "    }\n",
              "\n",
              "    .colab-df-convert:hover {\n",
              "      background-color: #E2EBFA;\n",
              "      box-shadow: 0px 1px 2px rgba(60, 64, 67, 0.3), 0px 1px 3px 1px rgba(60, 64, 67, 0.15);\n",
              "      fill: #174EA6;\n",
              "    }\n",
              "\n",
              "    .colab-df-buttons div {\n",
              "      margin-bottom: 4px;\n",
              "    }\n",
              "\n",
              "    [theme=dark] .colab-df-convert {\n",
              "      background-color: #3B4455;\n",
              "      fill: #D2E3FC;\n",
              "    }\n",
              "\n",
              "    [theme=dark] .colab-df-convert:hover {\n",
              "      background-color: #434B5C;\n",
              "      box-shadow: 0px 1px 3px 1px rgba(0, 0, 0, 0.15);\n",
              "      filter: drop-shadow(0px 1px 2px rgba(0, 0, 0, 0.3));\n",
              "      fill: #FFFFFF;\n",
              "    }\n",
              "  </style>\n",
              "\n",
              "    <script>\n",
              "      const buttonEl =\n",
              "        document.querySelector('#df-6412a8ec-ea27-48c3-a71d-144064771536 button.colab-df-convert');\n",
              "      buttonEl.style.display =\n",
              "        google.colab.kernel.accessAllowed ? 'block' : 'none';\n",
              "\n",
              "      async function convertToInteractive(key) {\n",
              "        const element = document.querySelector('#df-6412a8ec-ea27-48c3-a71d-144064771536');\n",
              "        const dataTable =\n",
              "          await google.colab.kernel.invokeFunction('convertToInteractive',\n",
              "                                                    [key], {});\n",
              "        if (!dataTable) return;\n",
              "\n",
              "        const docLinkHtml = 'Like what you see? Visit the ' +\n",
              "          '<a target=\"_blank\" href=https://colab.research.google.com/notebooks/data_table.ipynb>data table notebook</a>'\n",
              "          + ' to learn more about interactive tables.';\n",
              "        element.innerHTML = '';\n",
              "        dataTable['output_type'] = 'display_data';\n",
              "        await google.colab.output.renderOutput(dataTable, element);\n",
              "        const docLink = document.createElement('div');\n",
              "        docLink.innerHTML = docLinkHtml;\n",
              "        element.appendChild(docLink);\n",
              "      }\n",
              "    </script>\n",
              "  </div>\n",
              "\n",
              "\n",
              "<div id=\"df-919d94c8-d1f3-4cee-b8fd-ea068f825621\">\n",
              "  <button class=\"colab-df-quickchart\" onclick=\"quickchart('df-919d94c8-d1f3-4cee-b8fd-ea068f825621')\"\n",
              "            title=\"Suggest charts\"\n",
              "            style=\"display:none;\">\n",
              "\n",
              "<svg xmlns=\"http://www.w3.org/2000/svg\" height=\"24px\"viewBox=\"0 0 24 24\"\n",
              "     width=\"24px\">\n",
              "    <g>\n",
              "        <path d=\"M19 3H5c-1.1 0-2 .9-2 2v14c0 1.1.9 2 2 2h14c1.1 0 2-.9 2-2V5c0-1.1-.9-2-2-2zM9 17H7v-7h2v7zm4 0h-2V7h2v10zm4 0h-2v-4h2v4z\"/>\n",
              "    </g>\n",
              "</svg>\n",
              "  </button>\n",
              "\n",
              "<style>\n",
              "  .colab-df-quickchart {\n",
              "      --bg-color: #E8F0FE;\n",
              "      --fill-color: #1967D2;\n",
              "      --hover-bg-color: #E2EBFA;\n",
              "      --hover-fill-color: #174EA6;\n",
              "      --disabled-fill-color: #AAA;\n",
              "      --disabled-bg-color: #DDD;\n",
              "  }\n",
              "\n",
              "  [theme=dark] .colab-df-quickchart {\n",
              "      --bg-color: #3B4455;\n",
              "      --fill-color: #D2E3FC;\n",
              "      --hover-bg-color: #434B5C;\n",
              "      --hover-fill-color: #FFFFFF;\n",
              "      --disabled-bg-color: #3B4455;\n",
              "      --disabled-fill-color: #666;\n",
              "  }\n",
              "\n",
              "  .colab-df-quickchart {\n",
              "    background-color: var(--bg-color);\n",
              "    border: none;\n",
              "    border-radius: 50%;\n",
              "    cursor: pointer;\n",
              "    display: none;\n",
              "    fill: var(--fill-color);\n",
              "    height: 32px;\n",
              "    padding: 0;\n",
              "    width: 32px;\n",
              "  }\n",
              "\n",
              "  .colab-df-quickchart:hover {\n",
              "    background-color: var(--hover-bg-color);\n",
              "    box-shadow: 0 1px 2px rgba(60, 64, 67, 0.3), 0 1px 3px 1px rgba(60, 64, 67, 0.15);\n",
              "    fill: var(--button-hover-fill-color);\n",
              "  }\n",
              "\n",
              "  .colab-df-quickchart-complete:disabled,\n",
              "  .colab-df-quickchart-complete:disabled:hover {\n",
              "    background-color: var(--disabled-bg-color);\n",
              "    fill: var(--disabled-fill-color);\n",
              "    box-shadow: none;\n",
              "  }\n",
              "\n",
              "  .colab-df-spinner {\n",
              "    border: 2px solid var(--fill-color);\n",
              "    border-color: transparent;\n",
              "    border-bottom-color: var(--fill-color);\n",
              "    animation:\n",
              "      spin 1s steps(1) infinite;\n",
              "  }\n",
              "\n",
              "  @keyframes spin {\n",
              "    0% {\n",
              "      border-color: transparent;\n",
              "      border-bottom-color: var(--fill-color);\n",
              "      border-left-color: var(--fill-color);\n",
              "    }\n",
              "    20% {\n",
              "      border-color: transparent;\n",
              "      border-left-color: var(--fill-color);\n",
              "      border-top-color: var(--fill-color);\n",
              "    }\n",
              "    30% {\n",
              "      border-color: transparent;\n",
              "      border-left-color: var(--fill-color);\n",
              "      border-top-color: var(--fill-color);\n",
              "      border-right-color: var(--fill-color);\n",
              "    }\n",
              "    40% {\n",
              "      border-color: transparent;\n",
              "      border-right-color: var(--fill-color);\n",
              "      border-top-color: var(--fill-color);\n",
              "    }\n",
              "    60% {\n",
              "      border-color: transparent;\n",
              "      border-right-color: var(--fill-color);\n",
              "    }\n",
              "    80% {\n",
              "      border-color: transparent;\n",
              "      border-right-color: var(--fill-color);\n",
              "      border-bottom-color: var(--fill-color);\n",
              "    }\n",
              "    90% {\n",
              "      border-color: transparent;\n",
              "      border-bottom-color: var(--fill-color);\n",
              "    }\n",
              "  }\n",
              "</style>\n",
              "\n",
              "  <script>\n",
              "    async function quickchart(key) {\n",
              "      const quickchartButtonEl =\n",
              "        document.querySelector('#' + key + ' button');\n",
              "      quickchartButtonEl.disabled = true;  // To prevent multiple clicks.\n",
              "      quickchartButtonEl.classList.add('colab-df-spinner');\n",
              "      try {\n",
              "        const charts = await google.colab.kernel.invokeFunction(\n",
              "            'suggestCharts', [key], {});\n",
              "      } catch (error) {\n",
              "        console.error('Error during call to suggestCharts:', error);\n",
              "      }\n",
              "      quickchartButtonEl.classList.remove('colab-df-spinner');\n",
              "      quickchartButtonEl.classList.add('colab-df-quickchart-complete');\n",
              "    }\n",
              "    (() => {\n",
              "      let quickchartButtonEl =\n",
              "        document.querySelector('#df-919d94c8-d1f3-4cee-b8fd-ea068f825621 button');\n",
              "      quickchartButtonEl.style.display =\n",
              "        google.colab.kernel.accessAllowed ? 'block' : 'none';\n",
              "    })();\n",
              "  </script>\n",
              "</div>\n",
              "\n",
              "    </div>\n",
              "  </div>\n"
            ],
            "application/vnd.google.colaboratory.intrinsic+json": {
              "type": "dataframe",
              "variable_name": "df_balanced",
              "summary": "{\n  \"name\": \"df_balanced\",\n  \"rows\": 980,\n  \"fields\": [\n    {\n      \"column\": \"step\",\n      \"properties\": {\n        \"dtype\": \"date\",\n        \"min\": 1,\n        \"max\": 42,\n        \"num_unique_values\": 42,\n        \"samples\": [\n          42,\n          12,\n          10\n        ],\n        \"semantic_type\": \"\",\n        \"description\": \"\"\n      }\n    },\n    {\n      \"column\": \"type\",\n      \"properties\": {\n        \"dtype\": \"category\",\n        \"num_unique_values\": 5,\n        \"samples\": [\n          \"CASH_OUT\",\n          \"DEBIT\",\n          \"TRANSFER\"\n        ],\n        \"semantic_type\": \"\",\n        \"description\": \"\"\n      }\n    },\n    {\n      \"column\": \"amount\",\n      \"properties\": {\n        \"dtype\": \"date\",\n        \"min\": 80.79,\n        \"max\": 10000000.0,\n        \"num_unique_values\": 745,\n        \"samples\": [\n          153277.31,\n          76739.09,\n          17447.57\n        ],\n        \"semantic_type\": \"\",\n        \"description\": \"\"\n      }\n    },\n    {\n      \"column\": \"nameOrig\",\n      \"properties\": {\n        \"dtype\": \"string\",\n        \"num_unique_values\": 980,\n        \"samples\": [\n          \"C1357985676\",\n          \"C282456496\",\n          \"C761091225\"\n        ],\n        \"semantic_type\": \"\",\n        \"description\": \"\"\n      }\n    },\n    {\n      \"column\": \"nameDest\",\n      \"properties\": {\n        \"dtype\": \"string\",\n        \"num_unique_values\": 971,\n        \"samples\": [\n          \"C742710717\",\n          \"C1379703840\",\n          \"C974447821\"\n        ],\n        \"semantic_type\": \"\",\n        \"description\": \"\"\n      }\n    },\n    {\n      \"column\": \"isFraud\",\n      \"properties\": {\n        \"dtype\": \"date\",\n        \"min\": 0,\n        \"max\": 1,\n        \"num_unique_values\": 2,\n        \"samples\": [\n          1,\n          0\n        ],\n        \"semantic_type\": \"\",\n        \"description\": \"\"\n      }\n    },\n    {\n      \"column\": \"isFlaggedFraud\",\n      \"properties\": {\n        \"dtype\": \"date\",\n        \"min\": 0,\n        \"max\": 0,\n        \"num_unique_values\": 1,\n        \"samples\": [\n          0\n        ],\n        \"semantic_type\": \"\",\n        \"description\": \"\"\n      }\n    },\n    {\n      \"column\": \"balance_diff_orig\",\n      \"properties\": {\n        \"dtype\": \"date\",\n        \"min\": -673457.53,\n        \"max\": 10000000.0,\n        \"num_unique_values\": 569,\n        \"samples\": [\n          -186455.2800000012\n        ],\n        \"semantic_type\": \"\",\n        \"description\": \"\"\n      }\n    },\n    {\n      \"column\": \"balance_diff_dest\",\n      \"properties\": {\n        \"dtype\": \"date\",\n        \"min\": -10000000.0,\n        \"max\": 658968.75,\n        \"num_unique_values\": 586,\n        \"samples\": [\n          -51424.22\n        ],\n        \"semantic_type\": \"\",\n        \"description\": \"\"\n      }\n    }\n  ]\n}"
            }
          },
          "metadata": {},
          "execution_count": 66
        }
      ]
    },
    {
      "cell_type": "code",
      "source": [
        "df_balanced.shape"
      ],
      "metadata": {
        "id": "-pZe_2GQjUvV",
        "colab": {
          "base_uri": "https://localhost:8080/"
        },
        "outputId": "6a95bd5d-44b5-4c36-e11b-dc9ee7324630"
      },
      "execution_count": 67,
      "outputs": [
        {
          "output_type": "execute_result",
          "data": {
            "text/plain": [
              "(980, 9)"
            ]
          },
          "metadata": {},
          "execution_count": 67
        }
      ]
    },
    {
      "cell_type": "code",
      "source": [
        "q = (\n",
        "    df_balanced.lazy()\n",
        "    .group_by(\"isFraud\")  # Group by 'isFraud'\n",
        "    .agg(pl.count().alias(\"count\"))  # Count occurrences\n",
        "    .sort(\"count\", descending=True)  # Sort by count in descending order\n",
        ")\n",
        "\n",
        "result_df = q.collect()  # Execute the query and get the result DataFrame\n",
        "print(result_df)"
      ],
      "metadata": {
        "colab": {
          "base_uri": "https://localhost:8080/",
          "height": 347
        },
        "id": "YiQnhAtD7nzf",
        "outputId": "49780069-6fd8-43ca-e05e-2d475c1164d2"
      },
      "execution_count": 69,
      "outputs": [
        {
          "output_type": "error",
          "ename": "AttributeError",
          "evalue": "'DataFrame' object has no attribute 'lazy'",
          "traceback": [
            "\u001b[0;31m---------------------------------------------------------------------------\u001b[0m",
            "\u001b[0;31mAttributeError\u001b[0m                            Traceback (most recent call last)",
            "\u001b[0;32m<ipython-input-69-79a1e30f1913>\u001b[0m in \u001b[0;36m<cell line: 2>\u001b[0;34m()\u001b[0m\n\u001b[1;32m      1\u001b[0m q = (\n\u001b[0;32m----> 2\u001b[0;31m     \u001b[0mdf_balanced\u001b[0m\u001b[0;34m.\u001b[0m\u001b[0mlazy\u001b[0m\u001b[0;34m(\u001b[0m\u001b[0;34m)\u001b[0m\u001b[0;34m\u001b[0m\u001b[0;34m\u001b[0m\u001b[0m\n\u001b[0m\u001b[1;32m      3\u001b[0m     \u001b[0;34m.\u001b[0m\u001b[0mgroup_by\u001b[0m\u001b[0;34m(\u001b[0m\u001b[0;34m\"isFraud\"\u001b[0m\u001b[0;34m)\u001b[0m  \u001b[0;31m# Group by 'isFraud'\u001b[0m\u001b[0;34m\u001b[0m\u001b[0;34m\u001b[0m\u001b[0m\n\u001b[1;32m      4\u001b[0m     \u001b[0;34m.\u001b[0m\u001b[0magg\u001b[0m\u001b[0;34m(\u001b[0m\u001b[0mpl\u001b[0m\u001b[0;34m.\u001b[0m\u001b[0mcount\u001b[0m\u001b[0;34m(\u001b[0m\u001b[0;34m)\u001b[0m\u001b[0;34m.\u001b[0m\u001b[0malias\u001b[0m\u001b[0;34m(\u001b[0m\u001b[0;34m\"count\"\u001b[0m\u001b[0;34m)\u001b[0m\u001b[0;34m)\u001b[0m  \u001b[0;31m# Count occurrences\u001b[0m\u001b[0;34m\u001b[0m\u001b[0;34m\u001b[0m\u001b[0m\n\u001b[1;32m      5\u001b[0m     \u001b[0;34m.\u001b[0m\u001b[0msort\u001b[0m\u001b[0;34m(\u001b[0m\u001b[0;34m\"count\"\u001b[0m\u001b[0;34m,\u001b[0m \u001b[0mdescending\u001b[0m\u001b[0;34m=\u001b[0m\u001b[0;32mTrue\u001b[0m\u001b[0;34m)\u001b[0m  \u001b[0;31m# Sort by count in descending order\u001b[0m\u001b[0;34m\u001b[0m\u001b[0;34m\u001b[0m\u001b[0m\n",
            "\u001b[0;32m/usr/local/lib/python3.10/dist-packages/pandas/core/generic.py\u001b[0m in \u001b[0;36m__getattr__\u001b[0;34m(self, name)\u001b[0m\n\u001b[1;32m   6297\u001b[0m         ):\n\u001b[1;32m   6298\u001b[0m             \u001b[0;32mreturn\u001b[0m \u001b[0mself\u001b[0m\u001b[0;34m[\u001b[0m\u001b[0mname\u001b[0m\u001b[0;34m]\u001b[0m\u001b[0;34m\u001b[0m\u001b[0;34m\u001b[0m\u001b[0m\n\u001b[0;32m-> 6299\u001b[0;31m         \u001b[0;32mreturn\u001b[0m \u001b[0mobject\u001b[0m\u001b[0;34m.\u001b[0m\u001b[0m__getattribute__\u001b[0m\u001b[0;34m(\u001b[0m\u001b[0mself\u001b[0m\u001b[0;34m,\u001b[0m \u001b[0mname\u001b[0m\u001b[0;34m)\u001b[0m\u001b[0;34m\u001b[0m\u001b[0;34m\u001b[0m\u001b[0m\n\u001b[0m\u001b[1;32m   6300\u001b[0m \u001b[0;34m\u001b[0m\u001b[0m\n\u001b[1;32m   6301\u001b[0m     \u001b[0;34m@\u001b[0m\u001b[0mfinal\u001b[0m\u001b[0;34m\u001b[0m\u001b[0;34m\u001b[0m\u001b[0m\n",
            "\u001b[0;31mAttributeError\u001b[0m: 'DataFrame' object has no attribute 'lazy'"
          ]
        }
      ]
    },
    {
      "cell_type": "code",
      "source": [
        "from sklearn.preprocessing import LabelEncoder\n",
        "\n",
        "df_balanced = pd.DataFrame(df_balanced)\n",
        "\n",
        "# Initialize LabelEncoder\n",
        "le = LabelEncoder()\n",
        "\n",
        "# Apply label encoding on 'type' column\n",
        "df_balanced['type_encoded'] = le.fit_transform(df_balanced['type'])\n",
        "\n",
        "# Display the DataFrame\n",
        "print(df_balanced.head())\n",
        "\n"
      ],
      "metadata": {
        "colab": {
          "base_uri": "https://localhost:8080/"
        },
        "id": "cT_a0bW382X3",
        "outputId": "5816def4-62e6-4356-d17b-4b5852e1fb3f"
      },
      "execution_count": 68,
      "outputs": [
        {
          "output_type": "stream",
          "name": "stdout",
          "text": [
            "  step      type     amount     nameOrig     nameDest isFraud isFlaggedFraud  \\\n",
            "0   11   PAYMENT     8224.1  C1759062772  M2108211751       0              0   \n",
            "1   15  CASH_OUT  479760.59   C197908524  C2099617060       0              0   \n",
            "2   14  TRANSFER  425971.09  C1153781287    C35084360       0              0   \n",
            "3   35   PAYMENT   20999.92   C265162747  M1586188690       0              0   \n",
            "4   19  CASH_OUT   16598.73  C1285727199   C895114532       0              0   \n",
            "\n",
            "  balance_diff_orig balance_diff_dest  type_encoded  \n",
            "0            8224.1               0.0             3  \n",
            "1           17772.0         -789115.9             1  \n",
            "2          256830.0         -748291.0             4  \n",
            "3          12271.31               0.0             3  \n",
            "4            5066.0           10126.0             1  \n"
          ]
        }
      ]
    },
    {
      "cell_type": "code",
      "source": [
        "# prompt: perform train test split and apply logistic regression\n",
        "\n",
        "from sklearn.model_selection import train_test_split\n",
        "from sklearn.linear_model import LogisticRegression\n",
        "from sklearn.metrics import accuracy_score, classification_report\n",
        "\n",
        "\n",
        "\n",
        "# Separate features (X) and target (y)\n",
        "X = df_balanced.drop(columns=['isFraud', 'nameOrig', 'nameDest', 'type'])\n",
        "y = df_pd['isFraud']\n",
        "\n",
        "# Perform train-test split\n",
        "X_train, X_test, y_train, y_test = train_test_split(X, y, test_size=0.2, random_state=42)\n",
        "\n",
        "# Initialize and train the Logistic Regression model\n",
        "model = LogisticRegression()\n",
        "model.fit(X_train, y_train)\n",
        "\n",
        "# Make predictions on the test set\n",
        "y_pred = model.predict(X_test)\n",
        "\n",
        "# Evaluate the model\n",
        "accuracy = accuracy_score(y_test, y_pred)\n",
        "print(f\"Accuracy: {accuracy}\")\n",
        "\n",
        "print(classification_report(y_test, y_pred))"
      ],
      "metadata": {
        "colab": {
          "base_uri": "https://localhost:8080/"
        },
        "id": "2bRqTaLq8F_p",
        "outputId": "1302ceeb-2597-4374-c44e-843cb4e7874d"
      },
      "execution_count": 74,
      "outputs": [
        {
          "output_type": "stream",
          "name": "stdout",
          "text": [
            "Accuracy: 0.8673469387755102\n",
            "              precision    recall  f1-score   support\n",
            "\n",
            "           0       0.80      0.97      0.88        97\n",
            "           1       0.96      0.77      0.85        99\n",
            "\n",
            "    accuracy                           0.87       196\n",
            "   macro avg       0.88      0.87      0.87       196\n",
            "weighted avg       0.88      0.87      0.87       196\n",
            "\n"
          ]
        }
      ]
    },
    {
      "cell_type": "code",
      "source": [
        "X_test.head()"
      ],
      "metadata": {
        "colab": {
          "base_uri": "https://localhost:8080/",
          "height": 206
        },
        "id": "pki7TFOmLaeV",
        "outputId": "2a52a4a1-4467-46f4-b8f4-f265cc34269d"
      },
      "execution_count": 77,
      "outputs": [
        {
          "output_type": "execute_result",
          "data": {
            "text/plain": [
              "    step     amount isFlaggedFraud balance_diff_orig balance_diff_dest  \\\n",
              "788   26  331829.94              0         331829.94        -331829.95   \n",
              "440   15   15814.91              0          15814.91               0.0   \n",
              "139   11  194548.01              0        -194548.01           16843.0   \n",
              "695   18  295664.18              0         295664.18        -295664.18   \n",
              "66    16   42446.51              0         -42446.51        -782665.17   \n",
              "\n",
              "     type_encoded  \n",
              "788             1  \n",
              "440             3  \n",
              "139             0  \n",
              "695             1  \n",
              "66              0  "
            ],
            "text/html": [
              "\n",
              "  <div id=\"df-fbce8bc6-2417-4365-adf9-079543b804f2\" class=\"colab-df-container\">\n",
              "    <div>\n",
              "<style scoped>\n",
              "    .dataframe tbody tr th:only-of-type {\n",
              "        vertical-align: middle;\n",
              "    }\n",
              "\n",
              "    .dataframe tbody tr th {\n",
              "        vertical-align: top;\n",
              "    }\n",
              "\n",
              "    .dataframe thead th {\n",
              "        text-align: right;\n",
              "    }\n",
              "</style>\n",
              "<table border=\"1\" class=\"dataframe\">\n",
              "  <thead>\n",
              "    <tr style=\"text-align: right;\">\n",
              "      <th></th>\n",
              "      <th>step</th>\n",
              "      <th>amount</th>\n",
              "      <th>isFlaggedFraud</th>\n",
              "      <th>balance_diff_orig</th>\n",
              "      <th>balance_diff_dest</th>\n",
              "      <th>type_encoded</th>\n",
              "    </tr>\n",
              "  </thead>\n",
              "  <tbody>\n",
              "    <tr>\n",
              "      <th>788</th>\n",
              "      <td>26</td>\n",
              "      <td>331829.94</td>\n",
              "      <td>0</td>\n",
              "      <td>331829.94</td>\n",
              "      <td>-331829.95</td>\n",
              "      <td>1</td>\n",
              "    </tr>\n",
              "    <tr>\n",
              "      <th>440</th>\n",
              "      <td>15</td>\n",
              "      <td>15814.91</td>\n",
              "      <td>0</td>\n",
              "      <td>15814.91</td>\n",
              "      <td>0.0</td>\n",
              "      <td>3</td>\n",
              "    </tr>\n",
              "    <tr>\n",
              "      <th>139</th>\n",
              "      <td>11</td>\n",
              "      <td>194548.01</td>\n",
              "      <td>0</td>\n",
              "      <td>-194548.01</td>\n",
              "      <td>16843.0</td>\n",
              "      <td>0</td>\n",
              "    </tr>\n",
              "    <tr>\n",
              "      <th>695</th>\n",
              "      <td>18</td>\n",
              "      <td>295664.18</td>\n",
              "      <td>0</td>\n",
              "      <td>295664.18</td>\n",
              "      <td>-295664.18</td>\n",
              "      <td>1</td>\n",
              "    </tr>\n",
              "    <tr>\n",
              "      <th>66</th>\n",
              "      <td>16</td>\n",
              "      <td>42446.51</td>\n",
              "      <td>0</td>\n",
              "      <td>-42446.51</td>\n",
              "      <td>-782665.17</td>\n",
              "      <td>0</td>\n",
              "    </tr>\n",
              "  </tbody>\n",
              "</table>\n",
              "</div>\n",
              "    <div class=\"colab-df-buttons\">\n",
              "\n",
              "  <div class=\"colab-df-container\">\n",
              "    <button class=\"colab-df-convert\" onclick=\"convertToInteractive('df-fbce8bc6-2417-4365-adf9-079543b804f2')\"\n",
              "            title=\"Convert this dataframe to an interactive table.\"\n",
              "            style=\"display:none;\">\n",
              "\n",
              "  <svg xmlns=\"http://www.w3.org/2000/svg\" height=\"24px\" viewBox=\"0 -960 960 960\">\n",
              "    <path d=\"M120-120v-720h720v720H120Zm60-500h600v-160H180v160Zm220 220h160v-160H400v160Zm0 220h160v-160H400v160ZM180-400h160v-160H180v160Zm440 0h160v-160H620v160ZM180-180h160v-160H180v160Zm440 0h160v-160H620v160Z\"/>\n",
              "  </svg>\n",
              "    </button>\n",
              "\n",
              "  <style>\n",
              "    .colab-df-container {\n",
              "      display:flex;\n",
              "      gap: 12px;\n",
              "    }\n",
              "\n",
              "    .colab-df-convert {\n",
              "      background-color: #E8F0FE;\n",
              "      border: none;\n",
              "      border-radius: 50%;\n",
              "      cursor: pointer;\n",
              "      display: none;\n",
              "      fill: #1967D2;\n",
              "      height: 32px;\n",
              "      padding: 0 0 0 0;\n",
              "      width: 32px;\n",
              "    }\n",
              "\n",
              "    .colab-df-convert:hover {\n",
              "      background-color: #E2EBFA;\n",
              "      box-shadow: 0px 1px 2px rgba(60, 64, 67, 0.3), 0px 1px 3px 1px rgba(60, 64, 67, 0.15);\n",
              "      fill: #174EA6;\n",
              "    }\n",
              "\n",
              "    .colab-df-buttons div {\n",
              "      margin-bottom: 4px;\n",
              "    }\n",
              "\n",
              "    [theme=dark] .colab-df-convert {\n",
              "      background-color: #3B4455;\n",
              "      fill: #D2E3FC;\n",
              "    }\n",
              "\n",
              "    [theme=dark] .colab-df-convert:hover {\n",
              "      background-color: #434B5C;\n",
              "      box-shadow: 0px 1px 3px 1px rgba(0, 0, 0, 0.15);\n",
              "      filter: drop-shadow(0px 1px 2px rgba(0, 0, 0, 0.3));\n",
              "      fill: #FFFFFF;\n",
              "    }\n",
              "  </style>\n",
              "\n",
              "    <script>\n",
              "      const buttonEl =\n",
              "        document.querySelector('#df-fbce8bc6-2417-4365-adf9-079543b804f2 button.colab-df-convert');\n",
              "      buttonEl.style.display =\n",
              "        google.colab.kernel.accessAllowed ? 'block' : 'none';\n",
              "\n",
              "      async function convertToInteractive(key) {\n",
              "        const element = document.querySelector('#df-fbce8bc6-2417-4365-adf9-079543b804f2');\n",
              "        const dataTable =\n",
              "          await google.colab.kernel.invokeFunction('convertToInteractive',\n",
              "                                                    [key], {});\n",
              "        if (!dataTable) return;\n",
              "\n",
              "        const docLinkHtml = 'Like what you see? Visit the ' +\n",
              "          '<a target=\"_blank\" href=https://colab.research.google.com/notebooks/data_table.ipynb>data table notebook</a>'\n",
              "          + ' to learn more about interactive tables.';\n",
              "        element.innerHTML = '';\n",
              "        dataTable['output_type'] = 'display_data';\n",
              "        await google.colab.output.renderOutput(dataTable, element);\n",
              "        const docLink = document.createElement('div');\n",
              "        docLink.innerHTML = docLinkHtml;\n",
              "        element.appendChild(docLink);\n",
              "      }\n",
              "    </script>\n",
              "  </div>\n",
              "\n",
              "\n",
              "<div id=\"df-8fb60ce4-15d4-45ee-832d-9cc609240383\">\n",
              "  <button class=\"colab-df-quickchart\" onclick=\"quickchart('df-8fb60ce4-15d4-45ee-832d-9cc609240383')\"\n",
              "            title=\"Suggest charts\"\n",
              "            style=\"display:none;\">\n",
              "\n",
              "<svg xmlns=\"http://www.w3.org/2000/svg\" height=\"24px\"viewBox=\"0 0 24 24\"\n",
              "     width=\"24px\">\n",
              "    <g>\n",
              "        <path d=\"M19 3H5c-1.1 0-2 .9-2 2v14c0 1.1.9 2 2 2h14c1.1 0 2-.9 2-2V5c0-1.1-.9-2-2-2zM9 17H7v-7h2v7zm4 0h-2V7h2v10zm4 0h-2v-4h2v4z\"/>\n",
              "    </g>\n",
              "</svg>\n",
              "  </button>\n",
              "\n",
              "<style>\n",
              "  .colab-df-quickchart {\n",
              "      --bg-color: #E8F0FE;\n",
              "      --fill-color: #1967D2;\n",
              "      --hover-bg-color: #E2EBFA;\n",
              "      --hover-fill-color: #174EA6;\n",
              "      --disabled-fill-color: #AAA;\n",
              "      --disabled-bg-color: #DDD;\n",
              "  }\n",
              "\n",
              "  [theme=dark] .colab-df-quickchart {\n",
              "      --bg-color: #3B4455;\n",
              "      --fill-color: #D2E3FC;\n",
              "      --hover-bg-color: #434B5C;\n",
              "      --hover-fill-color: #FFFFFF;\n",
              "      --disabled-bg-color: #3B4455;\n",
              "      --disabled-fill-color: #666;\n",
              "  }\n",
              "\n",
              "  .colab-df-quickchart {\n",
              "    background-color: var(--bg-color);\n",
              "    border: none;\n",
              "    border-radius: 50%;\n",
              "    cursor: pointer;\n",
              "    display: none;\n",
              "    fill: var(--fill-color);\n",
              "    height: 32px;\n",
              "    padding: 0;\n",
              "    width: 32px;\n",
              "  }\n",
              "\n",
              "  .colab-df-quickchart:hover {\n",
              "    background-color: var(--hover-bg-color);\n",
              "    box-shadow: 0 1px 2px rgba(60, 64, 67, 0.3), 0 1px 3px 1px rgba(60, 64, 67, 0.15);\n",
              "    fill: var(--button-hover-fill-color);\n",
              "  }\n",
              "\n",
              "  .colab-df-quickchart-complete:disabled,\n",
              "  .colab-df-quickchart-complete:disabled:hover {\n",
              "    background-color: var(--disabled-bg-color);\n",
              "    fill: var(--disabled-fill-color);\n",
              "    box-shadow: none;\n",
              "  }\n",
              "\n",
              "  .colab-df-spinner {\n",
              "    border: 2px solid var(--fill-color);\n",
              "    border-color: transparent;\n",
              "    border-bottom-color: var(--fill-color);\n",
              "    animation:\n",
              "      spin 1s steps(1) infinite;\n",
              "  }\n",
              "\n",
              "  @keyframes spin {\n",
              "    0% {\n",
              "      border-color: transparent;\n",
              "      border-bottom-color: var(--fill-color);\n",
              "      border-left-color: var(--fill-color);\n",
              "    }\n",
              "    20% {\n",
              "      border-color: transparent;\n",
              "      border-left-color: var(--fill-color);\n",
              "      border-top-color: var(--fill-color);\n",
              "    }\n",
              "    30% {\n",
              "      border-color: transparent;\n",
              "      border-left-color: var(--fill-color);\n",
              "      border-top-color: var(--fill-color);\n",
              "      border-right-color: var(--fill-color);\n",
              "    }\n",
              "    40% {\n",
              "      border-color: transparent;\n",
              "      border-right-color: var(--fill-color);\n",
              "      border-top-color: var(--fill-color);\n",
              "    }\n",
              "    60% {\n",
              "      border-color: transparent;\n",
              "      border-right-color: var(--fill-color);\n",
              "    }\n",
              "    80% {\n",
              "      border-color: transparent;\n",
              "      border-right-color: var(--fill-color);\n",
              "      border-bottom-color: var(--fill-color);\n",
              "    }\n",
              "    90% {\n",
              "      border-color: transparent;\n",
              "      border-bottom-color: var(--fill-color);\n",
              "    }\n",
              "  }\n",
              "</style>\n",
              "\n",
              "  <script>\n",
              "    async function quickchart(key) {\n",
              "      const quickchartButtonEl =\n",
              "        document.querySelector('#' + key + ' button');\n",
              "      quickchartButtonEl.disabled = true;  // To prevent multiple clicks.\n",
              "      quickchartButtonEl.classList.add('colab-df-spinner');\n",
              "      try {\n",
              "        const charts = await google.colab.kernel.invokeFunction(\n",
              "            'suggestCharts', [key], {});\n",
              "      } catch (error) {\n",
              "        console.error('Error during call to suggestCharts:', error);\n",
              "      }\n",
              "      quickchartButtonEl.classList.remove('colab-df-spinner');\n",
              "      quickchartButtonEl.classList.add('colab-df-quickchart-complete');\n",
              "    }\n",
              "    (() => {\n",
              "      let quickchartButtonEl =\n",
              "        document.querySelector('#df-8fb60ce4-15d4-45ee-832d-9cc609240383 button');\n",
              "      quickchartButtonEl.style.display =\n",
              "        google.colab.kernel.accessAllowed ? 'block' : 'none';\n",
              "    })();\n",
              "  </script>\n",
              "</div>\n",
              "\n",
              "    </div>\n",
              "  </div>\n"
            ],
            "application/vnd.google.colaboratory.intrinsic+json": {
              "type": "dataframe",
              "variable_name": "X_test",
              "repr_error": "0"
            }
          },
          "metadata": {},
          "execution_count": 77
        }
      ]
    },
    {
      "cell_type": "code",
      "source": [
        "import joblib\n",
        "\n",
        "# Saving the model using joblib\n",
        "joblib.dump(model, 'FraudDetection_model.pkl')\n"
      ],
      "metadata": {
        "colab": {
          "base_uri": "https://localhost:8080/"
        },
        "id": "xas1M5ZH8WXh",
        "outputId": "47548927-9ef4-497a-f9e6-79281ba99d5a"
      },
      "execution_count": 76,
      "outputs": [
        {
          "output_type": "execute_result",
          "data": {
            "text/plain": [
              "['FraudDetection_model.pkl']"
            ]
          },
          "metadata": {},
          "execution_count": 76
        }
      ]
    },
    {
      "cell_type": "code",
      "source": [],
      "metadata": {
        "id": "Gu4VlRN5K8Kl"
      },
      "execution_count": null,
      "outputs": []
    }
  ],
  "metadata": {
    "accelerator": "GPU",
    "colab": {
      "gpuType": "T4",
      "provenance": [],
      "authorship_tag": "ABX9TyPUU3QahKJ5NhM+YV1HmL5K",
      "include_colab_link": true
    },
    "kernelspec": {
      "display_name": "Python 3",
      "name": "python3"
    },
    "language_info": {
      "name": "python"
    }
  },
  "nbformat": 4,
  "nbformat_minor": 0
}